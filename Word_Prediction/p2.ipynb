{
 "cells": [
  {
   "cell_type": "markdown",
   "metadata": {},
   "source": [
    "# CSC321H5 Project 2.\n",
    "\n",
    "**Deadline**: Thursday, Feb. 13, by 9pm\n",
    "\n",
    "**Submission**: Submit a PDF export of the completed notebook. \n",
    "\n",
    "**Late Submission**: Please see the syllabus for the late submission criteria.\n",
    "\n",
    "Based on an assignment by George Dahl, Jing Yao Li, and Roger Grosse\n",
    "\n",
    "In this assignment, we will make a neural network that can predict the next word\n",
    "in a sentence given the previous three. \n",
    "We'll explore a couple of different models to perform this prediction task. We will also do this\n",
    "problem twice: once in PyTorch, and once using numpy. When using numpy, you'll implement\n",
    "the backpropagation computation.\n",
    "\n",
    "In doing this prediction task, our neural networks will learn about *words* and about\n",
    "how to represent words. We'll explore the *vector representations* of words that our\n",
    "model produces, and analyze these representations.\n",
    "\n",
    "You may modify the starter code as you see fit, including changing the signatures of\n",
    "functions and adding/removing helper functions. However, please make sure that your\n",
    "TA can understand what you are doing and why."
   ]
  },
  {
   "cell_type": "code",
   "execution_count": 43,
   "metadata": {},
   "outputs": [],
   "source": [
    "import pandas\n",
    "import numpy as np\n",
    "import matplotlib.pyplot as plt\n",
    "\n",
    "import torch\n",
    "import torch.nn as nn\n",
    "import torch.optim as optim"
   ]
  },
  {
   "cell_type": "markdown",
   "metadata": {},
   "source": [
    "## Question 1. Data\n",
    "\n",
    "With any machine learning problem, the first thing that we would want to do\n",
    "is to get an intuitive understanding of what our data looks like. Download the file\n",
    "`raw_sentences.txt` from `https://www.cs.toronto.edu/~lczhang/321/hw/raw_sentences.txt`\n",
    "and upload it to Google Drive.\n",
    "Then, mount Google Drive from your Google Colab notebook:"
   ]
  },
  {
   "cell_type": "code",
   "execution_count": 2,
   "metadata": {},
   "outputs": [],
   "source": [
    "# from google.colab import drive\n",
    "# drive.mount('/content/gdrive')"
   ]
  },
  {
   "cell_type": "markdown",
   "metadata": {},
   "source": [
    "Find the path to `raw_sentences.txt`:"
   ]
  },
  {
   "cell_type": "code",
   "execution_count": 44,
   "metadata": {},
   "outputs": [],
   "source": [
    "file_path = 'raw_sentences/raw_sentences.txt' # TODO - UPDATE ME!"
   ]
  },
  {
   "cell_type": "markdown",
   "metadata": {},
   "source": [
    "You might find it helpful to know that you can run shell commands (like `ls`) by\n",
    "using `!` in Google Colab, like this:"
   ]
  },
  {
   "cell_type": "code",
   "execution_count": 4,
   "metadata": {},
   "outputs": [],
   "source": [
    "# !ls /content/gdrive/My\\ Drive/\n",
    "# !mkdir /content/gdrive/My\\ Drive/CSC321"
   ]
  },
  {
   "cell_type": "markdown",
   "metadata": {},
   "source": [
    "The following code reads the sentences in our file, split each sentence into\n",
    "its individual words, and stores the sentences (list of words) in the\n",
    "variable `sentences`."
   ]
  },
  {
   "cell_type": "code",
   "execution_count": 45,
   "metadata": {},
   "outputs": [],
   "source": [
    "sentences = []\n",
    "for line in open(file_path):\n",
    "    words = line.split()\n",
    "    sentence = [word.lower() for word in words]\n",
    "    sentences.append(sentence)"
   ]
  },
  {
   "cell_type": "markdown",
   "metadata": {},
   "source": [
    "There are 97,162 sentences in total, and \n",
    "these sentences are composed of 250 distinct words."
   ]
  },
  {
   "cell_type": "code",
   "execution_count": 124,
   "metadata": {},
   "outputs": [
    {
     "name": "stdout",
     "output_type": "stream",
     "text": [
      "97162\n",
      "250\n"
     ]
    }
   ],
   "source": [
    "vocab = set([w for s in sentences for w in s])\n",
    "print(len(sentences)) # 97162\n",
    "print(len(vocab)) # 250"
   ]
  },
  {
   "cell_type": "markdown",
   "metadata": {},
   "source": [
    "We'll separate our data into training, validation, and test.\n",
    "We'll use `10,000 sentences for test, 10,000 for validation, and\n",
    "the rest for training."
   ]
  },
  {
   "cell_type": "code",
   "execution_count": 47,
   "metadata": {},
   "outputs": [],
   "source": [
    "test, valid, train = sentences[:10000], sentences[10000:20000], sentences[20000:]"
   ]
  },
  {
   "cell_type": "code",
   "execution_count": 9,
   "metadata": {},
   "outputs": [
    {
     "data": {
      "text/plain": [
       "['it',\n",
       " \"'s\",\n",
       " 'not',\n",
       " 'you',\n",
       " 'or',\n",
       " 'him',\n",
       " ',',\n",
       " 'it',\n",
       " \"'s\",\n",
       " 'both',\n",
       " 'of',\n",
       " 'you',\n",
       " '.']"
      ]
     },
     "execution_count": 9,
     "metadata": {},
     "output_type": "execute_result"
    }
   ],
   "source": [
    "test[15]\n",
    "# It 's not you or him , it 's both of you ."
   ]
  },
  {
   "cell_type": "markdown",
   "metadata": {},
   "source": [
    "### Part (a) -- 2 pts\n",
    "\n",
    "Display 10 sentences in the training set.\n",
    "Explain how punctuations are treated in our word representation, and how words\n",
    "with apostrophes are represented."
   ]
  },
  {
   "cell_type": "code",
   "execution_count": 174,
   "metadata": {},
   "outputs": [
    {
     "name": "stdout",
     "output_type": "stream",
     "text": [
      "[['last', 'night', ',', 'he', 'said', ',', 'did', 'it', 'for', 'me', '.'], ['on', 'what', 'can', 'i', 'do', '?'], ['now', 'where', 'does', 'it', 'go', '?'], ['what', 'did', 'the', 'court', 'do', '?'], ['but', 'at', 'the', 'same', 'time', ',', 'we', 'have', 'a', 'long', 'way', 'to', 'go', '.'], ['that', 'was', 'the', 'only', 'way', '.'], ['this', 'team', 'will', 'be', 'back', '.'], ['so', 'that', 'is', 'what', 'i', 'do', '.'], ['we', 'have', 'a', 'right', 'to', 'know', '.'], ['now', 'they', 'are', 'three', '.']]\n"
     ]
    },
    {
     "data": {
      "text/plain": [
       "'\\nEach sentence is treated as a list,\\nand each word is treated as an element in the list of a sentance.\\nAlso each punctuation is also treated as an element in a list of a sentence like a word.\\nA word with an apostrophe is represented like:\\n[the word before the apostrophe] , [the apostrophe and everything in that word after it]\\n'"
      ]
     },
     "execution_count": 174,
     "metadata": {},
     "output_type": "execute_result"
    }
   ],
   "source": [
    "# Your code goes here\n",
    "print(train[:10])\n",
    "    \n",
    "'''\n",
    "Each sentence is treated as a list,\n",
    "and each word is treated as an element in the list of a sentance.\n",
    "Also each punctuation is also treated as an element in a list of a sentence like a word.\n",
    "A word with an apostrophe is represented like:\n",
    "[the word before the apostrophe] , [the apostrophe and everything in that word after it]\n",
    "'''"
   ]
  },
  {
   "cell_type": "markdown",
   "metadata": {},
   "source": [
    "### Part (b) -- 2 pts\n",
    "\n",
    "What are the 10 most common words in the vocabulary? How often does each of these\n",
    "words appear in the training sentences? Express the second quantity a percentage\n",
    "(i.e. number of occurences of the  word / total number of words in the training set).\n",
    "\n",
    "These are good quantities to compute, because one of the first things a machine learning\n",
    "model will learn is to predict the **most common** class. Getting a sense of the\n",
    "distribution of our data will help you understand our model's behaviour.\n",
    "\n",
    "You can use Python's `collections.Counter` class if you would like to."
   ]
  },
  {
   "cell_type": "code",
   "execution_count": 167,
   "metadata": {},
   "outputs": [
    {
     "name": "stdout",
     "output_type": "stream",
     "text": [
      "1  word: ' . ' how often it occurs:  83.34 %\n",
      "2  word: ' it ' how often it occurs:  30.05 %\n",
      "3  word: ' , ' how often it occurs:  25.3 %\n",
      "4  word: ' i ' how often it occurs:  22.92 %\n",
      "5  word: ' do ' how often it occurs:  20.84 %\n",
      "6  word: ' to ' how often it occurs:  20.11 %\n",
      "7  word: ' nt ' how often it occurs:  16.94 %\n",
      "8  word: ' ? ' how often it occurs:  16.68 %\n",
      "9  word: ' the ' how often it occurs:  16.4 %\n",
      "10  word: ' that ' how often it occurs:  16.26 %\n"
     ]
    }
   ],
   "source": [
    "# Your code goes here\n",
    "common = {}\n",
    "\n",
    "for sentence in sentences:\n",
    "    for word in sentence:\n",
    "        if word in vocab:\n",
    "            if word not in common:\n",
    "                common[word] = 1\n",
    "            else:\n",
    "                common[word] += 1\n",
    "\n",
    "sorted_words = sorted(common.items(), key=lambda x: x[1], reverse=True)    \n",
    "for i in range(10):\n",
    "    print(i+1,\" word: '\", sorted_words[i][0], \"' how often it occurs: \", round(sorted_words[i][1]/97162 * 100, 2),\"%\")"
   ]
  },
  {
   "cell_type": "markdown",
   "metadata": {},
   "source": [
    "### Part (c) -- 4 pts\n",
    "\n",
    "Complete the helper functions `convert_words_to_indices` and\n",
    "`generate_4grams`, so that the function `process_data` will take a \n",
    "list of sentences (i.e. list of list of words), and generate an \n",
    "$$N \\times 4$$ numpy matrix containing indices of 4 words that appear\n",
    "next to each other. You can use the constances `vocab`, `vocab_itos`,\n",
    "and `vocab_stoi` in your code."
   ]
  },
  {
   "cell_type": "code",
   "execution_count": 49,
   "metadata": {},
   "outputs": [],
   "source": [
    "# A list of all the words in the data set. We will assign a unique \n",
    "# identifier for each of these words.\n",
    "vocab = sorted(list(set([w for s in train for w in s])))\n",
    "# A mapping of index => word (string)\n",
    "vocab_itos = dict(enumerate(vocab))\n",
    "# A mapping of word => its index\n",
    "vocab_stoi = {word:index for index, word in vocab_itos.items()}\n",
    "\n",
    "def convert_words_to_indices(sents):\n",
    "    \"\"\"\n",
    "    This function takes a list of sentences (list of list of words)\n",
    "    and returns a new list with the same structure, but where each word\n",
    "    is replaced by its index in `vocab_stoi`.\n",
    "\n",
    "    Example:\n",
    "    >>> convert_words_to_indices([['one', 'in', 'five', 'are', 'over', 'here'], ['other', 'one', 'since', 'yesterday'], ['you']])\n",
    "    [[148, 98, 70, 23, 154, 89], [151, 148, 181, 246], [248]]\n",
    "    \"\"\"\n",
    "\n",
    "    # Write your code here\n",
    "    outer_list = []\n",
    "    for param_sentence in sents:\n",
    "        inner_list = []\n",
    "        for func_word in param_sentence:\n",
    "            inner_list.append(vocab_stoi[func_word])\n",
    "        outer_list.append(inner_list)\n",
    "    \n",
    "    return outer_list\n",
    "    \n",
    "# helper\n",
    "def indices_to_words(sents):\n",
    "    outer_list = []\n",
    "    for param_sentence in sents:\n",
    "        inner_list = []\n",
    "        for func_word in param_sentence:\n",
    "            inner_list.append(vocab_itos[func_word])\n",
    "        outer_list.append(inner_list)\n",
    "    \n",
    "    return outer_list\n",
    "\n",
    "def generate_4grams(seqs):\n",
    "    \"\"\"\n",
    "    This function takes a list of sentences (list of lists) and returns\n",
    "    a new list containing the 4-grams (four consequentively occuring words)\n",
    "    that appear in the sentences. Note that a unique 4-gram can appear multiple\n",
    "    times, one per each time that the 4-gram appears in the data parameter `seqs`.\n",
    "\n",
    "    Example:\n",
    "\n",
    "    >>> generate_4grams([[148, 98, 70, 23, 154, 89], [151, 148, 181, 246], [248]])\n",
    "    [[148, 98, 70, 23], [98, 70, 23, 154], [70, 23, 154, 89], [151, 148, 181, 246]]\n",
    "    >>> generate_4grams([[1, 1, 1, 1, 1]])\n",
    "    [[1, 1, 1, 1], [1, 1, 1, 1]]\n",
    "    \"\"\"\n",
    "    four_grams = []\n",
    "    \n",
    "    for sent in seqs:\n",
    "        if len(sent) >= 4:\n",
    "            \n",
    "            i = 0\n",
    "            j = 3\n",
    "            while j < len(sent):\n",
    "                gram = sent[i: j+1]\n",
    "                i+=1\n",
    "                j+=1\n",
    "                four_grams.append(gram)\n",
    "    return four_grams\n",
    "\n",
    "    # Write your code here\n",
    "\n",
    "def process_data(sents):\n",
    "    \"\"\"\n",
    "    This function takes a list of sentences (list of lists), and generates an\n",
    "    numpy matrix with shape [N, 4] containing indices of words in 4-grams.\n",
    "    \"\"\"\n",
    "    indices = convert_words_to_indices(sents)\n",
    "    fourgrams = generate_4grams(indices)\n",
    "    return np.array(fourgrams)\n",
    "\n",
    "train4grams = process_data(train)\n",
    "valid4grams = process_data(valid)\n",
    "test4grams = process_data(test)"
   ]
  },
  {
   "cell_type": "code",
   "execution_count": 46,
   "metadata": {},
   "outputs": [],
   "source": [
    "# print(vocab)\n",
    "# print(\"---------------------------------------------------\")\n",
    "# print(vocab_itos)\n",
    "# print(vocab[2], vocab_itos[2])\n",
    "# vocab_itos is just vocab, where each index in vocab is the key in vi and value in vi is the \n",
    "# item at that index in vocab\n",
    "\n",
    "#print(\"---------------------------------------------------\")\n",
    "# print(vocab_stoi)\n",
    "# v_s shows which index each word in vocab is located at\n",
    "# i.e vocab_stoi['$'] = 0\n",
    "# vocab[0] = vocab_itos[0] = '$'\n"
   ]
  },
  {
   "cell_type": "code",
   "execution_count": 29,
   "metadata": {},
   "outputs": [
    {
     "data": {
      "text/plain": [
       "(369661, 4)"
      ]
     },
     "execution_count": 29,
     "metadata": {},
     "output_type": "execute_result"
    }
   ],
   "source": [
    "# need for n-grams:\n",
    "# https://blog.xrds.acm.org/2017/10/introduction-n-grams-need/\n",
    "train4grams.shape"
   ]
  },
  {
   "cell_type": "code",
   "execution_count": 30,
   "metadata": {},
   "outputs": [],
   "source": [
    "# testing above funcs\n",
    "\n",
    "# convert_words_to_indices([['one', 'in', 'five', 'are', 'over', 'here'], ['other', 'one', 'since', 'yesterday'], ['you']])\n",
    "# => [[148, 98, 70, 23, 154, 89], [151, 148, 181, 246], [248]]\n",
    "# ans = [[148, 98, 70, 23, 154, 89], [151, 148, 181, 246], [248]]\n",
    "\n",
    "# generate_4grams([[148, 98, 70, 23, 154, 89], [151, 148, 181, 246], [248]]) == [[148, 98, 70, 23], [98, 70, 23, 154], [70, 23, 154, 89], [151, 148, 181, 246]]\n",
    "# generate_4grams([[1, 1, 1, 1, 1]]) == [[1, 1, 1, 1], [1, 1, 1, 1]]"
   ]
  },
  {
   "cell_type": "code",
   "execution_count": 121,
   "metadata": {},
   "outputs": [
    {
     "data": {
      "text/plain": [
       "array([ 87,   1, 230])"
      ]
     },
     "execution_count": 121,
     "metadata": {},
     "output_type": "execute_result"
    }
   ],
   "source": [
    "# testtt = np.eye(250)\n",
    "# testtt[[148, 98, 70]]\n",
    "# train4grams[0:1000, :3].shape\n",
    "train4grams[0, :3]\n"
   ]
  },
  {
   "cell_type": "markdown",
   "metadata": {},
   "source": [
    "## Question 2. A Multi-Layer Perceptron\n",
    "\n",
    "In this section, we will build a two-layer multi-layer perceptron.\n",
    "We will first do this in numpy, and then once more in PyTorch.\n",
    "Our model will look like this:\n",
    "\n",
    "<img src=\"https://www.cs.toronto.edu/~lczhang/321/hw/p2_model1.png\" />\n",
    "\n",
    "Start by reviewing these helper functions, which are given to you:"
   ]
  },
  {
   "cell_type": "code",
   "execution_count": 50,
   "metadata": {},
   "outputs": [],
   "source": [
    "def make_onehot(indicies, total=250):\n",
    "    \"\"\"\n",
    "    Convert indicies into one-hot vectors by\n",
    "        1. Creating an identity matrix of shape [total, total]\n",
    "        2. Indexing the appropriate columns of that identity matrix\n",
    "    \"\"\"\n",
    "    I = np.eye(total)\n",
    "    return I[indicies]\n",
    "\n",
    "def softmax(x):\n",
    "    \"\"\"\n",
    "    Compute the softmax of vector x, or row-wise for a matrix x.\n",
    "    We subtract x.max(axis=0) from each row for numerical stability.\n",
    "    \"\"\"\n",
    "    x = x.T\n",
    "    exps = np.exp(x - x.max(axis=0))\n",
    "    probs = exps / np.sum(exps, axis=0)\n",
    "    return probs.T\n",
    "\n",
    "def get_batch(data, range_min, range_max, onehot=True):\n",
    "    \"\"\"\n",
    "    Convert one batch of data in the form of 4-grams into input and output\n",
    "    data and return the training data (xs, ts) where:\n",
    "     - `xs` is an numpy array of one-hot vectors of shape [batch_size, 3, 250]\n",
    "     - `ts` is either\n",
    "            - a numpy array of shape [batch_size, 250] if onehot is True,\n",
    "            - a numpy array of shape [batch_size] containing indicies otherwise\n",
    "\n",
    "    Preconditions:\n",
    "     - `data` is a numpy array of shape [N, 4] produced by a call\n",
    "        to `process_data`\n",
    "     - range_max > range_min\n",
    "    \"\"\"\n",
    "    xs = data[range_min:range_max, :3]\n",
    "    xs = make_onehot(xs)\n",
    "    ts = data[range_min:range_max, 3]\n",
    "    if onehot:\n",
    "        ts = make_onehot(ts).reshape(-1, 250)\n",
    "    return xs, ts\n",
    "\n",
    "def estimate_accuracy(model, data, batch_size=5000, max_N=100000):\n",
    "    \"\"\"\n",
    "    Estimate the accuracy of the model on the data. To reduce\n",
    "    computation time, use at most `max_N` elements of `data` to\n",
    "    produce the estimate.\n",
    "    \"\"\"\n",
    "    correct = 0\n",
    "    N = 0\n",
    "    for i in range(0, data.shape[0], batch_size):\n",
    "        xs, ts = get_batch(data, i, i + batch_size, onehot=False)\n",
    "        y = model(xs)\n",
    "        pred = np.argmax(y, axis=1)\n",
    "        correct += np.sum(ts == pred)\n",
    "        N += ts.shape[0]\n",
    "\n",
    "        if N > max_N:\n",
    "            break\n",
    "    return correct / N"
   ]
  },
  {
   "cell_type": "markdown",
   "metadata": {},
   "source": [
    "### Part (a) -- 2 point\n",
    "\n",
    "Your first task is to implement MLP model in Numpy.\n",
    "This model is very similar to the one we built in Tutorial 5. However, we will\n",
    "write our code differently from Tutorial 5, so that the class methods and APIs\n",
    "are similar to that of PyTorch. This is to give you some intuition about what\n",
    "PyTorch is doing under the hood.\n",
    "\n",
    "We already wrote code for the backward pass for this model in Tutorial 5, so the\n",
    "code is given to you. To make sure you understand how the model works, \n",
    "**write the code to compute the forward pass**."
   ]
  },
  {
   "cell_type": "code",
   "execution_count": 51,
   "metadata": {},
   "outputs": [],
   "source": [
    "class NumpyMLPModel(object):\n",
    "    def __init__(self, num_features=250*3, num_hidden=400, num_classes=250):\n",
    "        \"\"\"\n",
    "        Initialize the weights and biases of this two-layer MLP.\n",
    "        \"\"\"\n",
    "        self.num_features = num_features\n",
    "        self.num_hidden = num_hidden\n",
    "        self.num_classes = num_classes\n",
    "        self.weights1 = np.zeros([num_hidden, num_features])\n",
    "        self.bias1 = np.zeros([num_hidden])\n",
    "        self.weights2 = np.zeros([num_classes, num_hidden])\n",
    "        self.bias2 = np.zeros([num_classes])\n",
    "        self.cleanup()\n",
    "\n",
    "    def initializeParams(self):\n",
    "        \"\"\"\n",
    "        Initialize the weights and biases of this two-layer MLP to be random.\n",
    "        This random initialization is necessary to break the symmetry in the\n",
    "        gradient descent update for our hidden weights and biases. If all our\n",
    "        weights were initialized to the same value, then their gradients will\n",
    "        all be the same!\n",
    "        \"\"\"\n",
    "        self.weights1 = np.random.normal(0, 2/self.num_features, self.weights1.shape)\n",
    "        self.bias1 = np.random.normal(0, 2/self.num_features, self.bias1.shape)\n",
    "        self.weights2 = np.random.normal(0, 2/self.num_hidden, self.weights2.shape)\n",
    "        self.bias2 = np.random.normal(0, 2/self.num_hidden, self.bias2.shape)\n",
    "\n",
    "    def forward(self, inputs):\n",
    "        \"\"\"\n",
    "        Compute the forward pass prediction for inputs.\n",
    "        Note that `inputs` will be a rank-3 numpy array with shape [N, 3, 250],\n",
    "        so we will need to flatten the tensor to [N, 750] first.\n",
    "\n",
    "        For the ReLU activation, you may find the function `np.maximum` helpful\n",
    "        \"\"\"\n",
    "        # 3*250 = 170\n",
    "        X = inputs.reshape([-1, 750])\n",
    "\n",
    "        # TODO:\n",
    "#         print(\"fwd\")\n",
    "        \n",
    "        \n",
    "        self.N = X.shape[0]\n",
    "        self.X = X\n",
    "#         print(\"X shape: \", self.X.shape)\n",
    "#         print(\"bias1 shape: \", self.bias1.shape)\n",
    "#         print(\"weights1 shape: \", self.weights1.shape)\n",
    "        \n",
    "        \n",
    "        self.z1 =  np.dot(X, self.weights1.T) + self.bias1\n",
    "#         print(\"z1 shape: \", self.z1.shape)\n",
    "        self.h = np.maximum(self.z1, 0) # use relu\n",
    "#         print(\"h shape: \", self.h.shape)\n",
    "#         print(\"weights2 shape: \", self.weights2.shape)\n",
    "\n",
    "        self.z2 = np.dot(self.h, self.weights2.T) + self.bias2\n",
    "#         print(\"z2 shape: \", self.z2.shape)\n",
    "\n",
    "        self.y = softmax(self.z2) # use softmax\n",
    "#         print(\"y shape: \", self.y.shape)\n",
    "\n",
    "        return self.y\n",
    "\n",
    "    def __call__(self, inputs):\n",
    "        \"\"\"\n",
    "        To be compatible with PyTorch API. With this code, the following two\n",
    "        calls are identical:\n",
    "\n",
    "        >>> m = TwoLayerMLP()\n",
    "        >>> m.forward(inputs)\n",
    "\n",
    "        and \n",
    "\n",
    "        >>> m = TwoLayerMLP()\n",
    "        >>> m(inputs)\n",
    "        \"\"\"\n",
    "        return self.forward(inputs)\n",
    "\n",
    "    def backward(self, ts):\n",
    "        \"\"\"\n",
    "        Compute the backward pass, given the ground-truth, one-hot targets.\n",
    "        Note that `ts` needs to be a rank 2 numpy array with shape [N, 250].\n",
    "        \"\"\"\n",
    "        self.z2_bar = (self.y - ts) / self.N\n",
    "        self.w2_bar = np.dot(self.z2_bar.T, self.h)\n",
    "        self.b2_bar = np.dot(self.z2_bar.T, np.ones(self.N))\n",
    "        self.h_bar = np.matmul(self.z2_bar, self.weights2)\n",
    "        self.z1_bar = self.h_bar * (self.z1 > 0)\n",
    "        self.w1_bar = np.dot(self.z1_bar.T, self.X)\n",
    "        self.b1_bar = np.dot(self.z1_bar.T, np.ones(self.N))\n",
    "\n",
    "    def update(self, alpha):\n",
    "        \"\"\"\n",
    "        Compute the gradient descent update for the parameters.\n",
    "        \"\"\"\n",
    "        self.weights1 = self.weights1 - alpha * self.w1_bar\n",
    "        self.bias1    = self.bias1    - alpha * self.b1_bar\n",
    "        self.weights2 = self.weights2 - alpha * self.w2_bar\n",
    "        self.bias2    = self.bias2    - alpha * self.b2_bar\n",
    "\n",
    "    def cleanup(self):\n",
    "        \"\"\"\n",
    "        Erase the values of the variables that we use in our computation.\n",
    "        \"\"\"\n",
    "        self.N = None\n",
    "        self.X = None\n",
    "        self.z1 = None\n",
    "        self.h = None\n",
    "        self.z2 = None\n",
    "        self.y = None\n",
    "        self.z2_bar = None\n",
    "        self.w2_bar = None\n",
    "        self.b2_bar = None\n",
    "        self.h_bar = None\n",
    "        self.z1_bar = None\n",
    "        self.w1_bar = None\n",
    "        self.b1_bar = None"
   ]
  },
  {
   "cell_type": "markdown",
   "metadata": {},
   "source": [
    "### Part (b) -- 2 points\n",
    "\n",
    "Complete the `run_gradient_descent` function. Train your numpy MLP model \n",
    "to obtain a training accuracy of at least 25%. You do not need to train\n",
    "this model to convergence."
   ]
  },
  {
   "cell_type": "code",
   "execution_count": 168,
   "metadata": {},
   "outputs": [
    {
     "name": "stdout",
     "output_type": "stream",
     "text": [
      "Iter 100. [Val Acc 17%] [Train Acc 17%, Loss 5.227166]\n",
      "Iter 200. [Val Acc 17%] [Train Acc 17%, Loss 4.990636]\n",
      "Iter 300. [Val Acc 17%] [Train Acc 17%, Loss 4.568509]\n",
      "Iter 400. [Val Acc 17%] [Train Acc 17%, Loss 4.588502]\n",
      "Iter 500. [Val Acc 17%] [Train Acc 17%, Loss 4.449262]\n",
      "Iter 600. [Val Acc 17%] [Train Acc 17%, Loss 4.476350]\n",
      "Iter 700. [Val Acc 17%] [Train Acc 17%, Loss 4.417271]\n",
      "Iter 800. [Val Acc 17%] [Train Acc 17%, Loss 4.544985]\n",
      "Iter 900. [Val Acc 17%] [Train Acc 17%, Loss 4.152317]\n",
      "Iter 1000. [Val Acc 17%] [Train Acc 17%, Loss 4.499974]\n",
      "Iter 1100. [Val Acc 17%] [Train Acc 17%, Loss 4.351353]\n",
      "Iter 1200. [Val Acc 17%] [Train Acc 17%, Loss 4.436030]\n",
      "Iter 1300. [Val Acc 17%] [Train Acc 17%, Loss 4.086223]\n",
      "Iter 1400. [Val Acc 18%] [Train Acc 19%, Loss 4.113942]\n",
      "Iter 1500. [Val Acc 19%] [Train Acc 19%, Loss 4.233834]\n",
      "Iter 1600. [Val Acc 19%] [Train Acc 19%, Loss 4.138922]\n",
      "Iter 1700. [Val Acc 19%] [Train Acc 19%, Loss 4.128098]\n",
      "Iter 1800. [Val Acc 19%] [Train Acc 19%, Loss 4.270069]\n",
      "Iter 1900. [Val Acc 20%] [Train Acc 21%, Loss 4.570292]\n",
      "Iter 2000. [Val Acc 19%] [Train Acc 19%, Loss 3.790290]\n",
      "Iter 2100. [Val Acc 20%] [Train Acc 21%, Loss 4.099601]\n",
      "Iter 2200. [Val Acc 21%] [Train Acc 21%, Loss 4.215771]\n",
      "Iter 2300. [Val Acc 21%] [Train Acc 21%, Loss 3.949226]\n",
      "Iter 2400. [Val Acc 22%] [Train Acc 22%, Loss 4.081014]\n",
      "Iter 2500. [Val Acc 22%] [Train Acc 22%, Loss 4.195229]\n",
      "Iter 2600. [Val Acc 22%] [Train Acc 22%, Loss 4.402335]\n",
      "Iter 2700. [Val Acc 22%] [Train Acc 23%, Loss 3.907602]\n",
      "Iter 2800. [Val Acc 23%] [Train Acc 23%, Loss 3.853811]\n",
      "Iter 2900. [Val Acc 23%] [Train Acc 23%, Loss 3.834267]\n",
      "Iter 3000. [Val Acc 23%] [Train Acc 23%, Loss 3.875696]\n",
      "Iter 3100. [Val Acc 23%] [Train Acc 24%, Loss 3.884708]\n",
      "Iter 3200. [Val Acc 24%] [Train Acc 24%, Loss 3.865879]\n",
      "Iter 3300. [Val Acc 24%] [Train Acc 24%, Loss 4.053548]\n",
      "Iter 3400. [Val Acc 24%] [Train Acc 24%, Loss 3.780685]\n",
      "Iter 3500. [Val Acc 24%] [Train Acc 24%, Loss 3.691088]\n",
      "Iter 3600. [Val Acc 24%] [Train Acc 24%, Loss 3.997904]\n",
      "Iter 3700. [Val Acc 24%] [Train Acc 25%, Loss 3.683967]\n",
      "Iter 3800. [Val Acc 24%] [Train Acc 25%, Loss 3.745166]\n",
      "Iter 3900. [Val Acc 24%] [Train Acc 25%, Loss 3.743728]\n",
      "Iter 4000. [Val Acc 24%] [Train Acc 25%, Loss 3.387572]\n",
      "Iter 4100. [Val Acc 25%] [Train Acc 25%, Loss 3.390577]\n",
      "Iter 4200. [Val Acc 25%] [Train Acc 25%, Loss 3.765684]\n",
      "Iter 4300. [Val Acc 25%] [Train Acc 25%, Loss 3.681051]\n",
      "Iter 4400. [Val Acc 25%] [Train Acc 26%, Loss 3.866250]\n",
      "Iter 4500. [Val Acc 25%] [Train Acc 26%, Loss 3.406874]\n",
      "Iter 4600. [Val Acc 25%] [Train Acc 26%, Loss 3.727237]\n",
      "Iter 4700. [Val Acc 25%] [Train Acc 26%, Loss 3.370895]\n",
      "Iter 4800. [Val Acc 26%] [Train Acc 26%, Loss 3.765171]\n",
      "Iter 4900. [Val Acc 26%] [Train Acc 26%, Loss 3.684517]\n",
      "Iter 5000. [Val Acc 26%] [Train Acc 26%, Loss 4.084672]\n",
      "Iter 5100. [Val Acc 26%] [Train Acc 26%, Loss 3.517947]\n",
      "Iter 5200. [Val Acc 26%] [Train Acc 26%, Loss 3.671193]\n",
      "Iter 5300. [Val Acc 26%] [Train Acc 27%, Loss 3.577670]\n",
      "Iter 5400. [Val Acc 26%] [Train Acc 27%, Loss 3.547893]\n",
      "Iter 5500. [Val Acc 26%] [Train Acc 27%, Loss 3.746827]\n",
      "Iter 5600. [Val Acc 26%] [Train Acc 26%, Loss 3.291062]\n",
      "Iter 5700. [Val Acc 26%] [Train Acc 27%, Loss 3.710451]\n",
      "Iter 5800. [Val Acc 26%] [Train Acc 27%, Loss 3.860343]\n",
      "Iter 5900. [Val Acc 26%] [Train Acc 27%, Loss 3.349582]\n",
      "Iter 6000. [Val Acc 27%] [Train Acc 27%, Loss 3.672501]\n",
      "Iter 6100. [Val Acc 27%] [Train Acc 27%, Loss 3.633839]\n",
      "Iter 6200. [Val Acc 27%] [Train Acc 27%, Loss 3.764259]\n",
      "Iter 6300. [Val Acc 27%] [Train Acc 27%, Loss 3.557310]\n",
      "Iter 6400. [Val Acc 27%] [Train Acc 27%, Loss 3.517753]\n",
      "Iter 6500. [Val Acc 27%] [Train Acc 27%, Loss 2.995926]\n",
      "Iter 6600. [Val Acc 27%] [Train Acc 27%, Loss 3.189119]\n",
      "Iter 6700. [Val Acc 27%] [Train Acc 27%, Loss 3.607186]\n",
      "Iter 6800. [Val Acc 27%] [Train Acc 27%, Loss 3.412125]\n",
      "Iter 6900. [Val Acc 27%] [Train Acc 27%, Loss 3.628836]\n",
      "Iter 7000. [Val Acc 27%] [Train Acc 27%, Loss 3.543223]\n",
      "Iter 7100. [Val Acc 27%] [Train Acc 28%, Loss 3.299505]\n",
      "Iter 7200. [Val Acc 27%] [Train Acc 28%, Loss 3.807363]\n",
      "Iter 7300. [Val Acc 27%] [Train Acc 28%, Loss 3.445243]\n"
     ]
    }
   ],
   "source": [
    "def run_gradient_descent(model,\n",
    "                         train_data=train4grams,\n",
    "                         validation_data=valid4grams,\n",
    "                         batch_size=100,\n",
    "                         learning_rate=0.1,\n",
    "                         max_iters=5000):\n",
    "    \"\"\"\n",
    "    Use gradient descent to train the numpy model on the dataset train4grams.\n",
    "    \"\"\"\n",
    "    n = 0\n",
    "    while n < max_iters:\n",
    "        # shuffle the training data, and break early if we don't have\n",
    "        # enough data to remaining in the batch\n",
    "        np.random.shuffle(train_data)\n",
    "        for i in range(0, train_data.shape[0], batch_size):\n",
    "            if (i + batch_size) > train_data.shape[0]:\n",
    "                break\n",
    "\n",
    "            # get the input and targets of a minibatch\n",
    "            xs, ts = get_batch(train_data, i, i + batch_size, onehot=True)\n",
    "\n",
    "            # forward pass: compute prediction\n",
    "            model.forward(xs)\n",
    "\n",
    "            # TODO: add your code here\n",
    "\n",
    "            # backward pass: compute error \n",
    "            model.backward(ts)\n",
    "            # TODO: add your code here\n",
    "            model.update(learning_rate)\n",
    "            # increment the iteration count\n",
    "            n += 1\n",
    "\n",
    "            # compute and plot the *validation* loss and accuracy\n",
    "            if (n % 100 == 0):\n",
    "                train_cost = -np.sum(ts * np.log(model.y)) / batch_size\n",
    "                train_acc = estimate_accuracy(model, train_data)\n",
    "                val_acc = estimate_accuracy(model, validation_data)\n",
    "                model.cleanup()\n",
    "                print(\"Iter %d. [Val Acc %.0f%%] [Train Acc %.0f%%, Loss %f]\" % (\n",
    "                      n, val_acc * 100, train_acc * 100, train_cost))\n",
    "\n",
    "        if n >= max_iters:\n",
    "            return\n",
    "\n",
    "\n",
    "numpy_mlp = NumpyMLPModel()\n",
    "numpy_mlp.initializeParams()\n",
    "run_gradient_descent(numpy_mlp)"
   ]
  },
  {
   "cell_type": "markdown",
   "metadata": {},
   "source": [
    "### Part (c) -- 2 pts\n",
    "\n",
    "We will do build the same model in PyTorch. Since PyTorch uses automatic\n",
    "differentiation, we only need to write the *forward pass* of our\n",
    "model. Complete the `forward` function below:"
   ]
  },
  {
   "cell_type": "code",
   "execution_count": 52,
   "metadata": {},
   "outputs": [],
   "source": [
    "class PyTorchMLP(nn.Module):\n",
    "    def __init__(self, num_hidden=400):\n",
    "        super(PyTorchMLP, self).__init__()\n",
    "        self.layer1 = nn.Linear(750, num_hidden)\n",
    "        self.layer2 = nn.Linear(num_hidden, 250)\n",
    "        self.num_hidden = num_hidden\n",
    "    def forward(self, inp):\n",
    "        inp = inp.reshape([-1, 750])\n",
    "        # TODO: complete this function\n",
    "        relu = nn.ReLU(inplace=True)\n",
    "        h = relu(self.layer1(inp))\n",
    "        return self.layer2(h)\n",
    "        \n"
   ]
  },
  {
   "cell_type": "markdown",
   "metadata": {},
   "source": [
    "### Part (d) -- 4 pts\n",
    "\n",
    "We'll write similar code to train the PyTorch model. With a few differences:\n",
    "\n",
    "1. We will use a slightly fancier optimizer called **Adam**. For this optimizer,\n",
    "   a smaller learning rate usually works better, so the default learning\n",
    "   rate is set to 0.001.\n",
    "2. Since we get weight decay for free, you are welcome to use weight decay.\n",
    "\n",
    "Complete the function `run_pytorch_gradient_descent`, and use it to train\n",
    "your PyTorch MLP model to obtain a training accuracy of at least 38%.\n",
    "Plot the learning curve using the `plot_learning_curve` function provided\n",
    "to you, and include your plot in your PDF submission."
   ]
  },
  {
   "cell_type": "code",
   "execution_count": 53,
   "metadata": {},
   "outputs": [],
   "source": [
    "def estimate_accuracy_torch(model, data, batch_size=5000, max_N=100000):\n",
    "    \"\"\"\n",
    "    Estimate the accuracy of the model on the data. To reduce\n",
    "    computation time, use at most `max_N` elements of `data` to\n",
    "    produce the estimate.\n",
    "    \"\"\"\n",
    "    correct = 0\n",
    "    N = 0\n",
    "    for i in range(0, data.shape[0], batch_size):\n",
    "        # get a batch of data\n",
    "        xs, ts = get_batch(data, i, i + batch_size, onehot=False)\n",
    "        \n",
    "        # forward pass prediction\n",
    "        y = model(torch.Tensor(xs))\n",
    "        y = y.detach().numpy() # convert the PyTorch tensor => numpy array\n",
    "        pred = np.argmax(y, axis=1)\n",
    "        correct += np.sum(pred == ts)\n",
    "        N += ts.shape[0]\n",
    "\n",
    "        if N > max_N:\n",
    "            break\n",
    "    return correct / N\n",
    "\n",
    "def run_pytorch_gradient_descent(model,\n",
    "                                 train_data=train4grams,\n",
    "                                 validation_data=valid4grams,\n",
    "                                 batch_size=100,\n",
    "                                 learning_rate=0.001,\n",
    "                                 weight_decay=0,\n",
    "                                 max_iters=8000,\n",
    "                                 checkpoint_path=None):\n",
    "    \"\"\"\n",
    "    Train the PyTorch model on the dataset `train_data`, reporting\n",
    "    the validation accuracy on `validation_data`, for `max_iters`\n",
    "    iteration.\n",
    "\n",
    "    If you want to **checkpoint** your model weights (i.e. save the\n",
    "    model weights to Google Drive), then the parameter\n",
    "    `checkpoint_path` should be a string path with `{}` to be replaced\n",
    "    by the iteration count:\n",
    "\n",
    "    For example, calling \n",
    "\n",
    "    >>> run_pytorch_gradient_descent(model, ...,\n",
    "            checkpoint_path = '/content/gdrive/My Drive/CSC321/mlp/ckpt-{}.pk')\n",
    "\n",
    "    will save the model parameters in Google Drive every 500 iterations.\n",
    "    You will have to make sure that the path exists (i.e. you'll need to create\n",
    "    the folder CSC321, mlp, etc...). Your Google Drive will be populated with files:\n",
    "\n",
    "    - /content/gdrive/My Drive/CSC321/mlp/ckpt-500.pk\n",
    "    - /content/gdrive/My Drive/CSC321/mlp/ckpt-1000.pk\n",
    "    - ...\n",
    "\n",
    "    To load the weights at a later time, you can run:\n",
    "\n",
    "    >>> model.load_state_dict(torch.load('/content/gdrive/My Drive/CSC321/mlp/ckpt-500.pk'))\n",
    "\n",
    "    This function returns the training loss, and the training/validation accuracy,\n",
    "    which we can use to plot the learning curve.\n",
    "    \"\"\"\n",
    "    criterion = nn.CrossEntropyLoss()\n",
    "    optimizer = optim.Adam(model.parameters(),\n",
    "                           lr=learning_rate,\n",
    "                           weight_decay=weight_decay)\n",
    "\n",
    "    iters, losses = [], []\n",
    "    iters_sub, train_accs, val_accs  = [], [] ,[]\n",
    "\n",
    "    n = 0 # the number of iterations\n",
    "    while True:\n",
    "        for i in range(0, train_data.shape[0], batch_size):\n",
    "            if (i + batch_size) > train_data.shape[0]:\n",
    "                break\n",
    "\n",
    "            # get the input and targets of a minibatch\n",
    "            xs, ts = get_batch(train_data, i, i + batch_size, onehot=False)\n",
    "\n",
    "            # convert from numpy arrays to PyTorch tensors\n",
    "            xs = torch.Tensor(xs)\n",
    "            ts = torch.Tensor(ts).long()\n",
    "\n",
    "            # zs = ...                 # compute prediction logit\n",
    "            y = model(xs)\n",
    "            # loss =                   # compute the total loss\n",
    "            loss = criterion(y, ts)\n",
    "            # ...                      # compute updates for each parameter\n",
    "            loss.backward()\n",
    "            # ...                      # make the updates for each parameter\n",
    "            optimizer.step()\n",
    "            # ...                      # a clean up step for PyTorch\n",
    "            optimizer.zero_grad()\n",
    "\n",
    "            # save the current training information\n",
    "            iters.append(n)\n",
    "            losses.append(float(loss)/batch_size)  # compute *average* loss\n",
    "\n",
    "            if n % 500 == 0:\n",
    "                iters_sub.append(n)\n",
    "                train_cost = float(loss.detach().numpy())\n",
    "                train_acc = estimate_accuracy_torch(model, train_data)\n",
    "                train_accs.append(train_acc)\n",
    "                val_acc = estimate_accuracy_torch(model, validation_data)\n",
    "                val_accs.append(val_acc)\n",
    "                print(\"Iter %d. [Val Acc %.0f%%] [Train Acc %.0f%%, Loss %f]\" % (\n",
    "                      n, val_acc * 100, train_acc * 100, train_cost))\n",
    "\n",
    "                if (checkpoint_path is not None) and n > 0:\n",
    "                    torch.save(model.state_dict(), checkpoint_path.format(n))\n",
    "\n",
    "            # increment the iteration number\n",
    "            n += 1\n",
    "\n",
    "            if n > max_iters:\n",
    "                return iters, losses, iters_sub, train_accs, val_accs\n",
    "\n",
    "\n",
    "def plot_learning_curve(iters, losses, iters_sub, train_accs, val_accs):\n",
    "    \"\"\"\n",
    "    Plot the learning curve.\n",
    "    \"\"\"\n",
    "    plt.title(\"Learning Curve: Loss per Iteration\")\n",
    "    plt.plot(iters, losses, label=\"Train\")\n",
    "    plt.xlabel(\"Iterations\")\n",
    "    plt.ylabel(\"Loss\")\n",
    "    plt.show()\n",
    "\n",
    "    plt.title(\"Learning Curve: Accuracy per Iteration\")\n",
    "    plt.plot(iters_sub, train_accs, label=\"Train\")\n",
    "    plt.plot(iters_sub, val_accs, label=\"Validation\")\n",
    "    plt.xlabel(\"Iterations\")\n",
    "    plt.ylabel(\"Accuracy\")\n",
    "    plt.legend(loc='best')\n",
    "    plt.show()"
   ]
  },
  {
   "cell_type": "code",
   "execution_count": 100,
   "metadata": {},
   "outputs": [
    {
     "name": "stdout",
     "output_type": "stream",
     "text": [
      "Iter 0. [Val Acc 1%] [Train Acc 1%, Loss 5.521320]\n",
      "Iter 500. [Val Acc 29%] [Train Acc 30%, Loss 3.061664]\n",
      "Iter 1000. [Val Acc 31%] [Train Acc 32%, Loss 2.785846]\n",
      "Iter 1500. [Val Acc 33%] [Train Acc 34%, Loss 3.182664]\n",
      "Iter 2000. [Val Acc 33%] [Train Acc 34%, Loss 2.813293]\n",
      "Iter 2500. [Val Acc 34%] [Train Acc 35%, Loss 2.685404]\n",
      "Iter 3000. [Val Acc 34%] [Train Acc 35%, Loss 2.691586]\n",
      "Iter 3500. [Val Acc 35%] [Train Acc 35%, Loss 2.479762]\n",
      "Iter 4000. [Val Acc 35%] [Train Acc 36%, Loss 2.944306]\n",
      "Iter 4500. [Val Acc 35%] [Train Acc 37%, Loss 2.612819]\n",
      "Iter 5000. [Val Acc 36%] [Train Acc 37%, Loss 2.811009]\n",
      "Iter 5500. [Val Acc 36%] [Train Acc 37%, Loss 2.310079]\n",
      "Iter 6000. [Val Acc 36%] [Train Acc 37%, Loss 2.997207]\n",
      "Iter 6500. [Val Acc 36%] [Train Acc 37%, Loss 2.637177]\n",
      "Iter 7000. [Val Acc 37%] [Train Acc 37%, Loss 2.508220]\n",
      "Iter 7500. [Val Acc 37%] [Train Acc 38%, Loss 2.455919]\n",
      "Iter 8000. [Val Acc 37%] [Train Acc 39%, Loss 2.361825]\n"
     ]
    },
    {
     "data": {
      "image/png": "[encoded data removed]",
      "text/plain": [
       "<Figure size 432x288 with 1 Axes>"
      ]
     },
     "metadata": {
      "needs_background": "light"
     },
     "output_type": "display_data"
    },
    {
     "data": {
      "image/png": "[encoded data removed]",
      "text/plain": [
       "<Figure size 432x288 with 1 Axes>"
      ]
     },
     "metadata": {
      "needs_background": "light"
     },
     "output_type": "display_data"
    }
   ],
   "source": [
    "pytorch_mlp = PyTorchMLP()\n",
    "learning_curve_info = run_pytorch_gradient_descent(pytorch_mlp)\n",
    "\n",
    "# you might want to save the `learning_curve_info` somewhere, so that you can plot\n",
    "# the learning curve prior to exporting your PDF file\n",
    "\n",
    "plot_learning_curve(*learning_curve_info)"
   ]
  },
  {
   "cell_type": "markdown",
   "metadata": {},
   "source": [
    "### Part (e) -- 3 points\n",
    "\n",
    "Write a function `make_prediction` that takes as parameters\n",
    "a PyTorchMLP model and sentence (a list of words), and produces\n",
    "a prediction for the next word in the sentence.\n",
    "\n",
    "Start by thinking about what you need to do, step by step, taking\n",
    "care of the difference between a numpy array and a PyTorch Tensor."
   ]
  },
  {
   "cell_type": "code",
   "execution_count": 17,
   "metadata": {},
   "outputs": [
    {
     "data": {
      "text/plain": [
       "tensor([1., 2., 3., 4., 5.])"
      ]
     },
     "execution_count": 17,
     "metadata": {},
     "output_type": "execute_result"
    }
   ],
   "source": [
    "l = [1,2,3,4,5]\n",
    "p = np.array([1,2,3,4,5])\n",
    "a = np.array(p)\n",
    "torch.Tensor(a)"
   ]
  },
  {
   "cell_type": "code",
   "execution_count": 54,
   "metadata": {},
   "outputs": [],
   "source": [
    "def make_prediction_torch(model, sentence):\n",
    "    \"\"\"\n",
    "    Use the model to make a prediction for the next word in the\n",
    "    sentence using the last 3 words (sentence[:-3]). You may assume\n",
    "    that len(sentence) >= 3 and that `model` is an instance of\n",
    "    PYTorchMLP.\n",
    "\n",
    "    This function should return the next word, represented as a string.\n",
    "\n",
    "    Example call:\n",
    "    >>> make_prediction_torch(pytorch_mlp, ['you', 'are', 'a'])\n",
    "    \"\"\"\n",
    "    global vocab_stoi, vocab_itos\n",
    "    \n",
    "    \n",
    "    inp = convert_words_to_indices([sentence[-3:]])[0]\n",
    "    oneHot_sent = make_onehot(np.array(inp))\n",
    "    input_words = torch.Tensor(oneHot_sent)\n",
    "    \n",
    "    y = model(input_words)\n",
    "    y = y.detach().numpy()\n",
    "    pred = np.argmax(y, axis=1)\n",
    "#     print(pred)\n",
    "    return vocab_itos[pred[0]]\n",
    "    #  Write your code here"
   ]
  },
  {
   "cell_type": "code",
   "execution_count": 141,
   "metadata": {},
   "outputs": [
    {
     "data": {
      "text/plain": [
       "'good'"
      ]
     },
     "execution_count": 141,
     "metadata": {},
     "output_type": "execute_result"
    }
   ],
   "source": [
    "make_prediction_torch(pytorch_mlp, ['you', 'are', 'a'])"
   ]
  },
  {
   "cell_type": "markdown",
   "metadata": {},
   "source": [
    "### Part (f) -- 4 points\n",
    "\n",
    "Use your code to predict what the next word should be in each\n",
    "of the following sentences:\n",
    "\n",
    "- \"You are a\"\n",
    "- \"few companies show\"\n",
    "- \"There are no\"\n",
    "- \"yesterday i was\"\n",
    "- \"the game had\"\n",
    "- \"yesterday the federal\"\n",
    "\n",
    "Do your predictions make sense? (If all of your predictions are the same,\n",
    "train your model for more iterations, or change the hyperparameters in your\n",
    "model. You may need to do this even if your training accuracy is >=38%)\n",
    "\n",
    "One concern you might have is that our model may be \"memorizing\" information\n",
    "from the training set.  Check if each of 3-grams (the 3 words appearing next\n",
    "to each other) appear in the training set. If so, what word occurs immediately\n",
    "following those three words?"
   ]
  },
  {
   "cell_type": "code",
   "execution_count": 142,
   "metadata": {},
   "outputs": [
    {
     "data": {
      "text/plain": [
       "'good'"
      ]
     },
     "execution_count": 142,
     "metadata": {},
     "output_type": "execute_result"
    }
   ],
   "source": [
    "# Write your code and answers here\n",
    "make_prediction_torch(pytorch_mlp, ['you', 'are', 'a'])"
   ]
  },
  {
   "cell_type": "code",
   "execution_count": 143,
   "metadata": {},
   "outputs": [
    {
     "data": {
      "text/plain": [
       "'up'"
      ]
     },
     "execution_count": 143,
     "metadata": {},
     "output_type": "execute_result"
    }
   ],
   "source": [
    "# Write your code and answers here\n",
    "make_prediction_torch(pytorch_mlp, ['few', 'companies', 'show'])"
   ]
  },
  {
   "cell_type": "code",
   "execution_count": 147,
   "metadata": {},
   "outputs": [
    {
     "data": {
      "text/plain": [
       "'other'"
      ]
     },
     "execution_count": 147,
     "metadata": {},
     "output_type": "execute_result"
    }
   ],
   "source": [
    "# Write your code and answers here\n",
    "make_prediction_torch(pytorch_mlp, ['there', 'are', 'no'])"
   ]
  },
  {
   "cell_type": "code",
   "execution_count": 148,
   "metadata": {},
   "outputs": [
    {
     "data": {
      "text/plain": [
       "'nt'"
      ]
     },
     "execution_count": 148,
     "metadata": {},
     "output_type": "execute_result"
    }
   ],
   "source": [
    "# Write your code and answers here\n",
    "make_prediction_torch(pytorch_mlp, ['yesterday', 'i', 'was'])"
   ]
  },
  {
   "cell_type": "code",
   "execution_count": 149,
   "metadata": {},
   "outputs": [
    {
     "data": {
      "text/plain": [
       "'to'"
      ]
     },
     "execution_count": 149,
     "metadata": {},
     "output_type": "execute_result"
    }
   ],
   "source": [
    "# Write your code and answers here\n",
    "make_prediction_torch(pytorch_mlp, ['the' ,'game', 'had'])"
   ]
  },
  {
   "cell_type": "code",
   "execution_count": 150,
   "metadata": {},
   "outputs": [
    {
     "data": {
      "text/plain": [
       "'government'"
      ]
     },
     "execution_count": 150,
     "metadata": {},
     "output_type": "execute_result"
    }
   ],
   "source": [
    "# Write your code and answers here\n",
    "make_prediction_torch(pytorch_mlp, ['yesterday', 'the', 'federal'])"
   ]
  },
  {
   "cell_type": "code",
   "execution_count": null,
   "metadata": {},
   "outputs": [],
   "source": [
    "'''\n",
    "These predictions make sense in the context of the sentences.\n",
    "'''"
   ]
  },
  {
   "cell_type": "markdown",
   "metadata": {},
   "source": [
    "### Part (g) -- 1 points\n",
    "\n",
    "Report the test accuracy of your model"
   ]
  },
  {
   "cell_type": "code",
   "execution_count": 151,
   "metadata": {},
   "outputs": [
    {
     "data": {
      "text/plain": [
       "0.3674981734683227"
      ]
     },
     "execution_count": 151,
     "metadata": {},
     "output_type": "execute_result"
    }
   ],
   "source": [
    "# Write your code here\n",
    "estimate_accuracy_torch(pytorch_mlp, test4grams)"
   ]
  },
  {
   "cell_type": "markdown",
   "metadata": {},
   "source": [
    "## Question 3. Learning Word Embeddings\n",
    "\n",
    "In this section, we will build a slightly different model with a different\n",
    "architecture. In particular, we will first compute a lower-dimensional\n",
    "*representation* of the three words, before using a multi-layer perceptron.\n",
    "\n",
    "Our model will look like this:\n",
    "\n",
    "<img src=\"https://www.cs.toronto.edu/~lczhang/321/hw/p2_model2.png\" />\n",
    "\n",
    "This model has 3 layers instead of 2, but the first layer of the network\n",
    "is **not** fully-connected. Instead, we compute the representations of each\n",
    "of the three words **separately**. In addition, the first layer of the network\n",
    "will not use any biases. The reason for this will be clear in question 4.\n",
    "\n",
    "### Part (a) - 10 pts\n",
    "\n",
    "Complete the methods in `NumpyWordEmbModel`."
   ]
  },
  {
   "cell_type": "code",
   "execution_count": 89,
   "metadata": {},
   "outputs": [
    {
     "data": {
      "text/plain": [
       "array([[2., 2., 2., ..., 2., 2., 2.],\n",
       "       [2., 2., 2., ..., 2., 2., 2.],\n",
       "       [2., 2., 2., ..., 2., 2., 2.],\n",
       "       ...,\n",
       "       [2., 2., 2., ..., 2., 2., 2.],\n",
       "       [2., 2., 2., ..., 2., 2., 2.],\n",
       "       [2., 2., 2., ..., 2., 2., 2.]])"
      ]
     },
     "execution_count": 89,
     "metadata": {},
     "output_type": "execute_result"
    }
   ],
   "source": [
    "# xs, tx = get_batch(train4grams, 0, 0 + 100, onehot=False)\n",
    "# xs.shape\n",
    "# re = xs.reshape([-1,750])\n",
    "# re[0].shape\n",
    "a = 2*np.ones((100,100))\n",
    "b = 3*np.ones((100,100))\n",
    "c = 4*np.ones((100,100))\n",
    "z = np.concatenate([a,b,c],1)\n",
    "z_new = z.reshape([-1,300])\n",
    "z_new.shape\n",
    "# n_fix = z_new.reshape([3,150,100])\n",
    "# n_fix[2]\n",
    "z_new[:, :100]"
   ]
  },
  {
   "cell_type": "code",
   "execution_count": 90,
   "metadata": {},
   "outputs": [],
   "source": [
    "class NumpyWordEmbModel(object):\n",
    "    def __init__(self, vocab_size=250, emb_size=100, num_hidden=100):\n",
    "        self.vocab_size = vocab_size\n",
    "        self.emb_size = emb_size\n",
    "        self.num_hidden = num_hidden\n",
    "        self.emb_weights = np.zeros([emb_size, vocab_size]) # no biases in this layer\n",
    "        self.weights1 = np.zeros([num_hidden, emb_size * 3])\n",
    "        self.bias1 = np.zeros([num_hidden])\n",
    "        self.weights2 = np.zeros([vocab_size, num_hidden])\n",
    "        self.bias2 = np.zeros([vocab_size])\n",
    "        self.cleanup()\n",
    "\n",
    "    def initializeParams(self):\n",
    "        \"\"\"\n",
    "        Randomly initialize the weights and biases of this two-layer MLP.\n",
    "        The randomization is necessary so that each weight is updated to\n",
    "        a different value.\n",
    "        \"\"\"\n",
    "        self.num_features = self.emb_size * 3\n",
    "        self.emb_weights = np.random.normal(0, 2/self.num_hidden, self.emb_weights.shape)\n",
    "        self.weights1 = np.random.normal(0, 2/self.num_features, self.weights1.shape)\n",
    "        self.bias1 = np.random.normal(0, 2/self.num_features, self.bias1.shape)\n",
    "        self.weights2 = np.random.normal(0, 2/self.num_hidden, self.weights2.shape)\n",
    "        self.bias2 = np.random.normal(0, 2/self.num_hidden, self.bias2.shape)\n",
    "\n",
    "    def forward(self, inputs):\n",
    "        \"\"\"\n",
    "        Compute the forward pass prediction for inputs.\n",
    "        Note that `inputs` will be a rank-3 numpy array with shape [N, 3, 250].\n",
    "\n",
    "        For numerical stability reasons, we **do not** apply the softmax\n",
    "        activation in the forward function. The loss function assumes that \n",
    "        we return the logits from this function.\n",
    "        \"\"\"\n",
    "        # TODO\n",
    "        X = inputs.reshape([-1, 750])\n",
    "        \n",
    "        self.words_rep1 =  X[:, 0:250]\n",
    "        self.words_rep2 =  X[:, 250:500]\n",
    "        self.words_rep3 =  X[:, 500:750]\n",
    "        \n",
    "        \n",
    "        self.z_1_1 = np.dot(self.words_rep1, self.emb_weights.T)\n",
    "        self.z_1_2 = np.dot(self.words_rep2, self.emb_weights.T)\n",
    "        self.z_1_3 = np.dot(self.words_rep3, self.emb_weights.T)\n",
    "        \n",
    "        self.h1_1 = np.maximum(self.z_1_1,0)\n",
    "        self.h1_2 = np.maximum(self.z_1_2,0)\n",
    "        self.h1_3 = np.maximum(self.z_1_3,0)\n",
    "        \n",
    "        # X_new\n",
    "        X_new = np.concatenate([self.h1_1, self.h1_2, self.h1_3], 1) # or append instead?\n",
    "        \n",
    "       # X_flatten = X_new.reshape([-1, 300])\n",
    "        # Nx300\n",
    "        \n",
    "        self.X = X_new # X_flatten\n",
    "        self.N = self.X.shape[0]\n",
    "        self.h = self.X\n",
    "        \n",
    "        self.z2 = np.dot(self.h, self.weights1.T) + self.bias1\n",
    "        \n",
    "        \n",
    "        self.h2 = np.maximum(self.z2, 0)\n",
    "        \n",
    "        self.z3 = np.dot(self.h2, self.weights2.T) + self.bias2\n",
    "        \n",
    "        self.y = softmax(self.z3)\n",
    "        \n",
    "        return self.y\n",
    "        \n",
    "        \n",
    "\n",
    "    def __call__(self, inputs):\n",
    "        return self.forward(inputs)\n",
    "\n",
    "    def backward(self, ts):\n",
    "        \"\"\"\n",
    "        Compute the backward pass, given the ground-truth, one-hot targets.\n",
    "        Note that `ts` needs to be a rank 2 numpy array with shape [N, 250].\n",
    "\n",
    "        Remember the multivariate chain rule: if a weight affects the loss\n",
    "        through different paths, then the error signal from all the paths\n",
    "        must be added together.\n",
    "        \"\"\"\n",
    "        # TODO\n",
    "        self.z3_bar = (self.y - ts) / self.N # (Nx250)\n",
    "        self.w2_bar = np.dot(self.z3_bar.T, self.h2) # (250xN) * (Nx100)\n",
    "        self.b2_bar = np.dot(self.z3_bar.T, np.ones(self.N)) # (250xN) * (Nx1)\n",
    "        \n",
    "        self.h2_bar = np.matmul(self.z3_bar, self.weights2) # (Nx250) * (250x100)\n",
    "        self.z2_bar = self.h2_bar * (self.z2 > 0)\n",
    "        self.w1_bar = np.dot(self.z2_bar.T, self.h)\n",
    "        self.b1_bar = np.dot(self.z2_bar.T, np.ones(self.N))\n",
    "        \n",
    "\n",
    "        self.h1_bar = np.matmul(self.z2_bar, self.weights1) # Nx100 * 100x300 = Nx300\n",
    "       # reshaped =  # self.h1_bar.reshape([3, self.N, 100])\n",
    "        reshaped_1 = self.h1_bar[:, 0:100]\n",
    "        reshaped_2 = self.h1_bar[:, 100:200]\n",
    "        reshaped_3 = self.h1_bar[:, 200:300]\n",
    "        \n",
    "        self.h1_1_bar = reshaped_1 # Nx100\n",
    "        self.h1_2_bar = reshaped_2 # Nx100\n",
    "        self.h1_3_bar = reshaped_3 # Nx100\n",
    "        \n",
    "        self.z_1_1_bar = self.h1_1_bar * (self.z_1_1 > 0) # Nx100 \n",
    "        self.z_1_2_bar = self.h1_2_bar * (self.z_1_2 > 0) # Nx100\n",
    "        self.z_1_3_bar = self.h1_3_bar * (self.z_1_3 > 0) # Nx100\n",
    "        \n",
    "        self.W_emb1_bar = np.dot(self.z_1_1_bar.T, self.words_rep1) # 100xN *  Nx250\n",
    "        self.W_emb2_bar = np.dot(self.z_1_2_bar.T, self.words_rep2) # 100xN *  Nx250\n",
    "        self.W_emb3_bar = np.dot(self.z_1_3_bar.T, self.words_rep3) # 100xN *  Nx250\n",
    "        \n",
    "        \n",
    "    def update(self, alpha):\n",
    "        \"\"\"\n",
    "        Compute the gradient descent update for the parameters.\n",
    "        \"\"\"\n",
    "        # TODO\n",
    "        \n",
    "        self.weights1 = self.weights1 - alpha * self.w1_bar\n",
    "        self.bias1    = self.bias1    - alpha * self.b1_bar\n",
    "        self.weights2 = self.weights2 - alpha * self.w2_bar\n",
    "        self.bias2    = self.bias2    - alpha * self.b2_bar\n",
    "        \n",
    "        emb_total = self.W_emb1_bar + self.W_emb2_bar + self.W_emb3_bar\n",
    "        \n",
    "        self.emb_weights = self.emb_weights - alpha * emb_total\n",
    "        \n",
    "\n",
    "    def cleanup(self):\n",
    "        \"\"\"\n",
    "        Erase the values of the variables that we use in our computation.\n",
    "        \"\"\"\n",
    "        # TODO\n",
    "        \n",
    "        self.z_1_1 = None\n",
    "        self.z_1_2 = None\n",
    "        self.z_1_3 = None\n",
    "        \n",
    "        self.h1_1 = None\n",
    "        self.h1_2 = None\n",
    "        self.h1_3 = None\n",
    "        \n",
    "        self.X = None\n",
    "        self.h = None\n",
    "        self.N = None\n",
    "        self.z2 = None\n",
    "        \n",
    "        \n",
    "        self.h2 = None\n",
    "        \n",
    "        self.z3 = None\n",
    "        \n",
    "        self.y = None\n",
    "        \n",
    "        \n",
    "        self.z3_bar = None\n",
    "        self.w2_bar = None\n",
    "        self.b2_bar = None\n",
    "        \n",
    "        self.h2_bar = None\n",
    "        self.z2_bar = None\n",
    "        self.w1_bar = None\n",
    "        self.b1_bar = None\n",
    "        \n",
    "\n",
    "        self.h1_bar = None\n",
    "        \n",
    "        self.h1_1_bar = None\n",
    "        self.h1_2_bar = None\n",
    "        self.h1_3_bar = None\n",
    "        \n",
    "        self.z_1_1_bar = None\n",
    "        self.z_1_2_bar = None\n",
    "        self.z_1_3_bar = None\n",
    "        \n",
    "        self.W_emb1_bar = None\n",
    "        self.W_emb2_bar = None\n",
    "        self.W_emb3_bar = None\n",
    "        \n",
    "        "
   ]
  },
  {
   "cell_type": "markdown",
   "metadata": {},
   "source": [
    "### Part (b) -- 1 pts\n",
    "\n",
    "One strategy that machine learning practitioners use to debug their code\n",
    "is to *first try to overfit their model to a small training set*. If the\n",
    "gradient computation is correct and the data is encoded properly, then your\n",
    "model should easily achieve 100% training accuracy on a small training set.\n",
    "\n",
    "Show that your model is implemented correctly by showing that your model\n",
    "can achieve an 100% training accuracy within a few hundred iterations, when\n",
    "using a small training set (e.g. one batch)."
   ]
  },
  {
   "cell_type": "code",
   "execution_count": 92,
   "metadata": {},
   "outputs": [
    {
     "name": "stdout",
     "output_type": "stream",
     "text": [
      "Iter 100. [Val Acc 17%] [Train Acc 22%, Loss 4.613898]\n",
      "Iter 200. [Val Acc 17%] [Train Acc 22%, Loss 3.697710]\n",
      "Iter 300. [Val Acc 17%] [Train Acc 22%, Loss 3.310949]\n",
      "Iter 400. [Val Acc 17%] [Train Acc 22%, Loss 3.197561]\n",
      "Iter 500. [Val Acc 17%] [Train Acc 22%, Loss 3.165949]\n",
      "Iter 600. [Val Acc 17%] [Train Acc 22%, Loss 3.152308]\n",
      "Iter 700. [Val Acc 17%] [Train Acc 22%, Loss 3.143972]\n",
      "Iter 800. [Val Acc 17%] [Train Acc 22%, Loss 3.136846]\n",
      "Iter 900. [Val Acc 17%] [Train Acc 22%, Loss 3.127840]\n",
      "Iter 1000. [Val Acc 17%] [Train Acc 22%, Loss 3.110342]\n",
      "Iter 1100. [Val Acc 17%] [Train Acc 22%, Loss 3.059377]\n",
      "Iter 1200. [Val Acc 17%] [Train Acc 22%, Loss 2.899958]\n",
      "Iter 1300. [Val Acc 10%] [Train Acc 30%, Loss 2.685985]\n",
      "Iter 1400. [Val Acc 8%] [Train Acc 33%, Loss 2.537235]\n",
      "Iter 1500. [Val Acc 7%] [Train Acc 38%, Loss 2.361326]\n",
      "Iter 1600. [Val Acc 8%] [Train Acc 42%, Loss 2.113457]\n",
      "Iter 1700. [Val Acc 9%] [Train Acc 47%, Loss 1.821546]\n",
      "Iter 1800. [Val Acc 9%] [Train Acc 56%, Loss 1.539435]\n",
      "Iter 1900. [Val Acc 9%] [Train Acc 66%, Loss 1.294648]\n",
      "Iter 2000. [Val Acc 9%] [Train Acc 80%, Loss 1.068875]\n",
      "Iter 2100. [Val Acc 8%] [Train Acc 89%, Loss 0.837869]\n",
      "Iter 2200. [Val Acc 8%] [Train Acc 98%, Loss 0.611787]\n",
      "Iter 2300. [Val Acc 8%] [Train Acc 100%, Loss 0.418581]\n",
      "Iter 2400. [Val Acc 8%] [Train Acc 100%, Loss 0.276952]\n",
      "Iter 2500. [Val Acc 8%] [Train Acc 100%, Loss 0.182967]\n",
      "Iter 2600. [Val Acc 8%] [Train Acc 100%, Loss 0.123902]\n",
      "Iter 2700. [Val Acc 8%] [Train Acc 100%, Loss 0.087175]\n",
      "Iter 2800. [Val Acc 8%] [Train Acc 100%, Loss 0.064058]\n",
      "Iter 2900. [Val Acc 8%] [Train Acc 100%, Loss 0.049150]\n",
      "Iter 3000. [Val Acc 8%] [Train Acc 100%, Loss 0.039091]\n",
      "Iter 3100. [Val Acc 8%] [Train Acc 100%, Loss 0.032026]\n",
      "Iter 3200. [Val Acc 8%] [Train Acc 100%, Loss 0.026879]\n",
      "Iter 3300. [Val Acc 8%] [Train Acc 100%, Loss 0.023005]\n",
      "Iter 3400. [Val Acc 8%] [Train Acc 100%, Loss 0.020011]\n",
      "Iter 3500. [Val Acc 8%] [Train Acc 100%, Loss 0.017637]\n",
      "Iter 3600. [Val Acc 8%] [Train Acc 100%, Loss 0.015717]\n",
      "Iter 3700. [Val Acc 8%] [Train Acc 100%, Loss 0.014138]\n",
      "Iter 3800. [Val Acc 8%] [Train Acc 100%, Loss 0.012821]\n",
      "Iter 3900. [Val Acc 8%] [Train Acc 100%, Loss 0.011707]\n",
      "Iter 4000. [Val Acc 8%] [Train Acc 100%, Loss 0.010756]\n",
      "Iter 4100. [Val Acc 8%] [Train Acc 100%, Loss 0.009934]\n",
      "Iter 4200. [Val Acc 8%] [Train Acc 100%, Loss 0.009218]\n",
      "Iter 4300. [Val Acc 8%] [Train Acc 100%, Loss 0.008590]\n",
      "Iter 4400. [Val Acc 8%] [Train Acc 100%, Loss 0.008034]\n",
      "Iter 4500. [Val Acc 8%] [Train Acc 100%, Loss 0.007540]\n",
      "Iter 4600. [Val Acc 8%] [Train Acc 100%, Loss 0.007097]\n",
      "Iter 4700. [Val Acc 8%] [Train Acc 100%, Loss 0.006700]\n",
      "Iter 4800. [Val Acc 8%] [Train Acc 100%, Loss 0.006340]\n",
      "Iter 4900. [Val Acc 8%] [Train Acc 100%, Loss 0.006014]\n",
      "Iter 5000. [Val Acc 8%] [Train Acc 100%, Loss 0.005717]\n"
     ]
    }
   ],
   "source": [
    "# numpy_wordemb = NumpyWordEmbModel()\n",
    "\n",
    "numpy_wordemb = NumpyWordEmbModel()\n",
    "numpy_wordemb.initializeParams()\n",
    "#run_gradient_descent(numpy_wordemb)\n",
    "\n",
    "run_gradient_descent(numpy_wordemb, train4grams[:64], batch_size=64)"
   ]
  },
  {
   "cell_type": "markdown",
   "metadata": {},
   "source": [
    "### Part (c) -- 2 pts\n",
    "\n",
    "Train your model from part (a) to obtain a training accuracy of at least 25%."
   ]
  },
  {
   "cell_type": "code",
   "execution_count": 97,
   "metadata": {},
   "outputs": [
    {
     "name": "stdout",
     "output_type": "stream",
     "text": [
      "Iter 100. [Val Acc 17%] [Train Acc 17%, Loss 5.120653]\n",
      "Iter 200. [Val Acc 17%] [Train Acc 17%, Loss 4.889356]\n",
      "Iter 300. [Val Acc 17%] [Train Acc 17%, Loss 4.426608]\n",
      "Iter 400. [Val Acc 17%] [Train Acc 17%, Loss 4.480257]\n",
      "Iter 500. [Val Acc 17%] [Train Acc 17%, Loss 4.516634]\n",
      "Iter 600. [Val Acc 17%] [Train Acc 17%, Loss 4.658172]\n",
      "Iter 700. [Val Acc 17%] [Train Acc 17%, Loss 4.496748]\n",
      "Iter 800. [Val Acc 17%] [Train Acc 17%, Loss 4.841113]\n",
      "Iter 900. [Val Acc 17%] [Train Acc 17%, Loss 4.636012]\n",
      "Iter 1000. [Val Acc 17%] [Train Acc 17%, Loss 4.722024]\n",
      "Iter 1100. [Val Acc 17%] [Train Acc 17%, Loss 4.248420]\n",
      "Iter 1200. [Val Acc 17%] [Train Acc 17%, Loss 4.410433]\n",
      "Iter 1300. [Val Acc 17%] [Train Acc 17%, Loss 4.326485]\n",
      "Iter 1400. [Val Acc 17%] [Train Acc 17%, Loss 4.668537]\n",
      "Iter 1500. [Val Acc 17%] [Train Acc 17%, Loss 4.014711]\n",
      "Iter 1600. [Val Acc 17%] [Train Acc 17%, Loss 4.370667]\n",
      "Iter 1700. [Val Acc 17%] [Train Acc 17%, Loss 4.412414]\n",
      "Iter 1800. [Val Acc 17%] [Train Acc 17%, Loss 4.348349]\n",
      "Iter 1900. [Val Acc 17%] [Train Acc 17%, Loss 4.495167]\n",
      "Iter 2000. [Val Acc 17%] [Train Acc 17%, Loss 4.372846]\n",
      "Iter 2100. [Val Acc 17%] [Train Acc 17%, Loss 4.377062]\n",
      "Iter 2200. [Val Acc 17%] [Train Acc 17%, Loss 4.668411]\n",
      "Iter 2300. [Val Acc 17%] [Train Acc 17%, Loss 4.435684]\n",
      "Iter 2400. [Val Acc 17%] [Train Acc 17%, Loss 4.508338]\n",
      "Iter 2500. [Val Acc 17%] [Train Acc 17%, Loss 4.465314]\n",
      "Iter 2600. [Val Acc 17%] [Train Acc 17%, Loss 4.289388]\n",
      "Iter 2700. [Val Acc 17%] [Train Acc 17%, Loss 4.429031]\n",
      "Iter 2800. [Val Acc 17%] [Train Acc 17%, Loss 4.676627]\n",
      "Iter 2900. [Val Acc 17%] [Train Acc 17%, Loss 4.566530]\n",
      "Iter 3000. [Val Acc 17%] [Train Acc 17%, Loss 4.224107]\n",
      "Iter 3100. [Val Acc 19%] [Train Acc 19%, Loss 4.234720]\n",
      "Iter 3200. [Val Acc 20%] [Train Acc 20%, Loss 4.206365]\n",
      "Iter 3300. [Val Acc 20%] [Train Acc 20%, Loss 4.267783]\n",
      "Iter 3400. [Val Acc 20%] [Train Acc 20%, Loss 4.148936]\n",
      "Iter 3500. [Val Acc 20%] [Train Acc 20%, Loss 4.380195]\n",
      "Iter 3600. [Val Acc 20%] [Train Acc 20%, Loss 4.056297]\n",
      "Iter 3700. [Val Acc 20%] [Train Acc 20%, Loss 4.401028]\n",
      "Iter 3800. [Val Acc 20%] [Train Acc 21%, Loss 4.461650]\n",
      "Iter 3900. [Val Acc 20%] [Train Acc 20%, Loss 4.258490]\n",
      "Iter 4000. [Val Acc 20%] [Train Acc 21%, Loss 4.377173]\n",
      "Iter 4100. [Val Acc 20%] [Train Acc 20%, Loss 3.991771]\n",
      "Iter 4200. [Val Acc 20%] [Train Acc 20%, Loss 3.745993]\n",
      "Iter 4300. [Val Acc 20%] [Train Acc 20%, Loss 3.850085]\n",
      "Iter 4400. [Val Acc 21%] [Train Acc 21%, Loss 4.148849]\n",
      "Iter 4500. [Val Acc 21%] [Train Acc 21%, Loss 4.027409]\n",
      "Iter 4600. [Val Acc 21%] [Train Acc 21%, Loss 3.933033]\n",
      "Iter 4700. [Val Acc 21%] [Train Acc 21%, Loss 3.884244]\n",
      "Iter 4800. [Val Acc 21%] [Train Acc 22%, Loss 3.985887]\n",
      "Iter 4900. [Val Acc 21%] [Train Acc 22%, Loss 3.812146]\n",
      "Iter 5000. [Val Acc 22%] [Train Acc 22%, Loss 3.879664]\n",
      "Iter 5100. [Val Acc 22%] [Train Acc 22%, Loss 3.805023]\n",
      "Iter 5200. [Val Acc 22%] [Train Acc 22%, Loss 4.048094]\n",
      "Iter 5300. [Val Acc 22%] [Train Acc 22%, Loss 4.036081]\n",
      "Iter 5400. [Val Acc 22%] [Train Acc 22%, Loss 3.938830]\n",
      "Iter 5500. [Val Acc 22%] [Train Acc 22%, Loss 3.731615]\n",
      "Iter 5600. [Val Acc 23%] [Train Acc 23%, Loss 3.628645]\n",
      "Iter 5700. [Val Acc 23%] [Train Acc 23%, Loss 3.877068]\n",
      "Iter 5800. [Val Acc 23%] [Train Acc 23%, Loss 3.659529]\n",
      "Iter 5900. [Val Acc 23%] [Train Acc 23%, Loss 3.717341]\n",
      "Iter 6000. [Val Acc 24%] [Train Acc 24%, Loss 3.723579]\n",
      "Iter 6100. [Val Acc 24%] [Train Acc 24%, Loss 3.534297]\n",
      "Iter 6200. [Val Acc 24%] [Train Acc 25%, Loss 3.983099]\n",
      "Iter 6300. [Val Acc 24%] [Train Acc 24%, Loss 3.770356]\n",
      "Iter 6400. [Val Acc 24%] [Train Acc 25%, Loss 3.590546]\n",
      "Iter 6500. [Val Acc 24%] [Train Acc 25%, Loss 3.294159]\n",
      "Iter 6600. [Val Acc 25%] [Train Acc 25%, Loss 3.722337]\n",
      "Iter 6700. [Val Acc 25%] [Train Acc 25%, Loss 3.465102]\n",
      "Iter 6800. [Val Acc 25%] [Train Acc 25%, Loss 3.712935]\n",
      "Iter 6900. [Val Acc 25%] [Train Acc 25%, Loss 3.700378]\n",
      "Iter 7000. [Val Acc 25%] [Train Acc 25%, Loss 3.690706]\n",
      "Iter 7100. [Val Acc 25%] [Train Acc 25%, Loss 3.851999]\n",
      "Iter 7200. [Val Acc 25%] [Train Acc 26%, Loss 3.396300]\n",
      "Iter 7300. [Val Acc 25%] [Train Acc 26%, Loss 3.702915]\n"
     ]
    }
   ],
   "source": [
    "# Your code goes here\n",
    "numpy_wordemb = NumpyWordEmbModel()\n",
    "numpy_wordemb.initializeParams()\n",
    "#run_gradient_descent(numpy_wordemb)\n",
    "\n",
    "run_gradient_descent(numpy_wordemb)"
   ]
  },
  {
   "cell_type": "markdown",
   "metadata": {},
   "source": [
    "### Part (d) -- 2 pts\n",
    "\n",
    "The PyTorch version of the model is implemented for you. Use \n",
    "`run_pytorch_gradient_descent` to train\n",
    "your PyTorch MLP model to obtain a training accuracy of at least 38%.\n",
    "Plot the learning curve using the `plot_learning_curve` function provided\n",
    "to you, and include your plot in your PDF submission.\n",
    "\n",
    "Make sure that you checkpoint frequently. We will be using ..."
   ]
  },
  {
   "cell_type": "code",
   "execution_count": 100,
   "metadata": {},
   "outputs": [
    {
     "name": "stdout",
     "output_type": "stream",
     "text": [
      "Iter 0. [Val Acc 2%] [Train Acc 2%, Loss 5.512658]\n",
      "Iter 500. [Val Acc 27%] [Train Acc 27%, Loss 3.391190]\n",
      "Iter 1000. [Val Acc 29%] [Train Acc 29%, Loss 3.167879]\n",
      "Iter 1500. [Val Acc 31%] [Train Acc 31%, Loss 3.222762]\n",
      "Iter 2000. [Val Acc 32%] [Train Acc 32%, Loss 2.808960]\n",
      "Iter 2500. [Val Acc 32%] [Train Acc 33%, Loss 2.942307]\n",
      "Iter 3000. [Val Acc 33%] [Train Acc 33%, Loss 2.825806]\n",
      "Iter 3500. [Val Acc 33%] [Train Acc 34%, Loss 3.014722]\n",
      "Iter 4000. [Val Acc 34%] [Train Acc 34%, Loss 2.831081]\n",
      "Iter 4500. [Val Acc 34%] [Train Acc 35%, Loss 2.766731]\n",
      "Iter 5000. [Val Acc 34%] [Train Acc 35%, Loss 2.508739]\n",
      "Iter 5500. [Val Acc 35%] [Train Acc 35%, Loss 2.786012]\n",
      "Iter 6000. [Val Acc 35%] [Train Acc 36%, Loss 2.613105]\n",
      "Iter 6500. [Val Acc 35%] [Train Acc 36%, Loss 2.396874]\n",
      "Iter 7000. [Val Acc 35%] [Train Acc 36%, Loss 2.456521]\n",
      "Iter 7500. [Val Acc 35%] [Train Acc 36%, Loss 2.337415]\n",
      "Iter 8000. [Val Acc 36%] [Train Acc 37%, Loss 2.620811]\n",
      "Iter 8500. [Val Acc 36%] [Train Acc 37%, Loss 2.530343]\n",
      "Iter 9000. [Val Acc 36%] [Train Acc 37%, Loss 2.395857]\n",
      "Iter 9500. [Val Acc 36%] [Train Acc 37%, Loss 2.669116]\n",
      "Iter 10000. [Val Acc 36%] [Train Acc 37%, Loss 2.492910]\n",
      "Iter 10500. [Val Acc 36%] [Train Acc 37%, Loss 2.511525]\n",
      "Iter 11000. [Val Acc 36%] [Train Acc 37%, Loss 2.230755]\n",
      "Iter 11500. [Val Acc 36%] [Train Acc 38%, Loss 2.484788]\n",
      "Iter 12000. [Val Acc 36%] [Train Acc 38%, Loss 2.482142]\n",
      "Iter 12500. [Val Acc 36%] [Train Acc 38%, Loss 2.469764]\n",
      "Iter 13000. [Val Acc 37%] [Train Acc 38%, Loss 2.358409]\n",
      "Iter 13500. [Val Acc 37%] [Train Acc 38%, Loss 2.637136]\n",
      "Iter 14000. [Val Acc 37%] [Train Acc 38%, Loss 2.363720]\n",
      "Iter 14500. [Val Acc 37%] [Train Acc 38%, Loss 2.600856]\n",
      "Iter 15000. [Val Acc 37%] [Train Acc 39%, Loss 2.805756]\n",
      "Iter 15500. [Val Acc 37%] [Train Acc 39%, Loss 2.619206]\n",
      "Iter 16000. [Val Acc 37%] [Train Acc 39%, Loss 2.289009]\n",
      "Iter 16500. [Val Acc 37%] [Train Acc 39%, Loss 2.709734]\n",
      "Iter 17000. [Val Acc 37%] [Train Acc 39%, Loss 2.552544]\n",
      "Iter 17500. [Val Acc 37%] [Train Acc 38%, Loss 2.389149]\n",
      "Iter 18000. [Val Acc 37%] [Train Acc 39%, Loss 2.545447]\n",
      "Iter 18500. [Val Acc 37%] [Train Acc 39%, Loss 2.443679]\n",
      "Iter 19000. [Val Acc 37%] [Train Acc 39%, Loss 2.701276]\n",
      "Iter 19500. [Val Acc 37%] [Train Acc 40%, Loss 2.312678]\n",
      "Iter 20000. [Val Acc 37%] [Train Acc 40%, Loss 2.748659]\n"
     ]
    },
    {
     "data": {
      "image/png": "[encoded data removed]",
      "text/plain": [
       "<Figure size 432x288 with 1 Axes>"
      ]
     },
     "metadata": {
      "needs_background": "light"
     },
     "output_type": "display_data"
    },
    {
     "data": {
      "image/png": "[encoded data removed]",
      "text/plain": [
       "<Figure size 432x288 with 1 Axes>"
      ]
     },
     "metadata": {
      "needs_background": "light"
     },
     "output_type": "display_data"
    }
   ],
   "source": [
    "class PyTorchWordEmb(nn.Module):\n",
    "    def __init__(self, emb_size=100, num_hidden=300, vocab_size=250):\n",
    "        super(PyTorchWordEmb, self).__init__()\n",
    "        self.word_emb_layer = nn.Linear(vocab_size, emb_size, bias=False)\n",
    "        self.fc_layer1 = nn.Linear(emb_size * 3, num_hidden)\n",
    "        self.fc_layer2 = nn.Linear(num_hidden, 250)\n",
    "        self.num_hidden = num_hidden\n",
    "        self.emb_size = emb_size\n",
    "    def forward(self, inp):\n",
    "        embeddings = torch.relu(self.word_emb_layer(inp))\n",
    "        embeddings = embeddings.reshape([-1, self.emb_size * 3])\n",
    "        hidden = torch.relu(self.fc_layer1(embeddings))\n",
    "        return self.fc_layer2(hidden)\n",
    "\n",
    "pytorch_wordemb= PyTorchWordEmb()\n",
    "\n",
    "result = run_pytorch_gradient_descent(pytorch_wordemb,\n",
    "                                       max_iters=20000\n",
    "                                       )\n",
    "\n",
    "plot_learning_curve(*result)"
   ]
  },
  {
   "cell_type": "markdown",
   "metadata": {},
   "source": [
    "### Part (e) -- 2 pts\n",
    "\n",
    "Use the function `make_prediction` that you wrote earlier to  \n",
    "predict what the next word should be in each of the following sentences:\n",
    "\n",
    "- \"You are a\"\n",
    "- \"few companies show\"\n",
    "- \"There are no\"\n",
    "- \"yesterday i was\"\n",
    "- \"the game had\"\n",
    "- \"yesterday the federal\"\n",
    "\n",
    "How do these predictions compared to the previous model?\n",
    "\n",
    "Just like before, if all of your predictions are the same,\n",
    "train your model for more iterations, or change the hyperparameters in your\n",
    "model. You may need to do this even if your training accuracy is >=38%."
   ]
  },
  {
   "cell_type": "code",
   "execution_count": 101,
   "metadata": {},
   "outputs": [
    {
     "data": {
      "text/plain": [
       "'good'"
      ]
     },
     "execution_count": 101,
     "metadata": {},
     "output_type": "execute_result"
    }
   ],
   "source": [
    "# Your code goes here\n",
    "make_prediction_torch(pytorch_wordemb, ['you', 'are', 'a'])"
   ]
  },
  {
   "cell_type": "code",
   "execution_count": 102,
   "metadata": {},
   "outputs": [
    {
     "data": {
      "text/plain": [
       "'.'"
      ]
     },
     "execution_count": 102,
     "metadata": {},
     "output_type": "execute_result"
    }
   ],
   "source": [
    "# Your code goes here\n",
    "make_prediction_torch(pytorch_wordemb, ['few' ,'companies' ,'show'])"
   ]
  },
  {
   "cell_type": "code",
   "execution_count": 103,
   "metadata": {},
   "outputs": [
    {
     "data": {
      "text/plain": [
       "'other'"
      ]
     },
     "execution_count": 103,
     "metadata": {},
     "output_type": "execute_result"
    }
   ],
   "source": [
    "make_prediction_torch(pytorch_wordemb, ['there', 'are' ,'no'])"
   ]
  },
  {
   "cell_type": "code",
   "execution_count": 104,
   "metadata": {},
   "outputs": [
    {
     "data": {
      "text/plain": [
       "'nt'"
      ]
     },
     "execution_count": 104,
     "metadata": {},
     "output_type": "execute_result"
    }
   ],
   "source": [
    "make_prediction_torch(pytorch_wordemb, ['yesterday', 'i', 'was'])"
   ]
  },
  {
   "cell_type": "code",
   "execution_count": 105,
   "metadata": {},
   "outputs": [
    {
     "data": {
      "text/plain": [
       "'to'"
      ]
     },
     "execution_count": 105,
     "metadata": {},
     "output_type": "execute_result"
    }
   ],
   "source": [
    "make_prediction_torch(pytorch_wordemb, ['the', 'game' ,'had'])"
   ]
  },
  {
   "cell_type": "code",
   "execution_count": 106,
   "metadata": {},
   "outputs": [
    {
     "data": {
      "text/plain": [
       "'government'"
      ]
     },
     "execution_count": 106,
     "metadata": {},
     "output_type": "execute_result"
    }
   ],
   "source": [
    "make_prediction_torch(pytorch_wordemb, ['yesterday', 'the' ,'federal'])"
   ]
  },
  {
   "cell_type": "code",
   "execution_count": null,
   "metadata": {},
   "outputs": [],
   "source": [
    "'''\n",
    "The only different prediction we got was '.' instead of 'up' after 'few companies show'.\n",
    "'''"
   ]
  },
  {
   "cell_type": "markdown",
   "metadata": {},
   "source": [
    "### Part (f) -- 1 pts\n",
    "\n",
    "Report the test accuracy of your model"
   ]
  },
  {
   "cell_type": "code",
   "execution_count": 107,
   "metadata": {},
   "outputs": [
    {
     "data": {
      "text/plain": [
       "0.3741571860974846"
      ]
     },
     "execution_count": 107,
     "metadata": {},
     "output_type": "execute_result"
    }
   ],
   "source": [
    "# Write your code here\n",
    "estimate_accuracy_torch(pytorch_wordemb, test4grams)"
   ]
  },
  {
   "cell_type": "markdown",
   "metadata": {},
   "source": [
    "## Question 4. Visualizing Word Embeddings\n",
    "\n",
    "While training the `PyTorchMLP`, we trained the `word_emb_layer`, which takes a one-hot\n",
    "representation of a word in our vocabulary, and returns a low-dimensional vector\n",
    "representation of that word. In this question, we will explore these word embeddings.\n",
    "\n",
    "### Part (a) -- 2 pts\n",
    "\n",
    "The code below extracts the **weights** of the word embedding layer,\n",
    "and converts the PyTorch tensor into an numpy array.\n",
    "Explain why each *row* of `word_emb` contains the vector representing\n",
    "of a word. For example `word_emb[vocab_stoi[\"any\"],:]` contains the\n",
    "vector representation of the word \"any\"."
   ]
  },
  {
   "cell_type": "code",
   "execution_count": 171,
   "metadata": {},
   "outputs": [
    {
     "data": {
      "text/plain": [
       "(250, 100)"
      ]
     },
     "execution_count": 171,
     "metadata": {},
     "output_type": "execute_result"
    }
   ],
   "source": [
    "word_emb_weights = list(pytorch_wordemb.word_emb_layer.parameters())[0]\n",
    "word_emb = word_emb_weights.detach().numpy().T\n",
    "\n",
    "# Write your explanation here\n",
    "''' \n",
    "Each row of the word embedding matrix is a vector of size 100 for each word,\n",
    "with 250 rows each representing a word.\n",
    "\n",
    "In each row (250) we want to encode each word as a vector (of size 100), so different words\n",
    "that can be used interchangeably in a sentence will have similar encodings as vectors.\n",
    "And thus the purpose of our word embedded mlp.\n",
    "'''\n",
    "word_emb.shape"
   ]
  },
  {
   "cell_type": "markdown",
   "metadata": {},
   "source": [
    "### Part (b) -- 2 pts\n",
    "\n",
    "Once interesting thing about these word embeddings is that distances\n",
    "in these vector representations of words make some sense! To show this,\n",
    "we have provided code below that computes the cosine similarity of\n",
    "every pair of words in our vocabulary. This code should look familiar,\n",
    "since we have seen it in project 1."
   ]
  },
  {
   "cell_type": "code",
   "execution_count": 122,
   "metadata": {},
   "outputs": [
    {
     "name": "stdout",
     "output_type": "stream",
     "text": [
      "-0.015582698\n",
      "0.1192466\n"
     ]
    }
   ],
   "source": [
    "norms = np.linalg.norm(word_emb, axis=1)\n",
    "word_emb_norm = (word_emb.T / norms).T\n",
    "similarities = np.matmul(word_emb_norm, word_emb_norm.T)\n",
    "\n",
    "# Some example distances. The first one should be larger than the second\n",
    "print(similarities[vocab_stoi['any'], vocab_stoi['many']])\n",
    "print(similarities[vocab_stoi['any'], vocab_stoi['government']])"
   ]
  },
  {
   "cell_type": "markdown",
   "metadata": {},
   "source": [
    "Compute the 5 closest words to the following words:\n",
    "\n",
    "- \"four\"\n",
    "- \"go\"\n",
    "- \"what\"\n",
    "- \"should\"\n",
    "- \"school\"\n",
    "- \"your\"\n",
    "- \"yesterday\"\n",
    "- \"not\""
   ]
  },
  {
   "cell_type": "code",
   "execution_count": 139,
   "metadata": {},
   "outputs": [],
   "source": [
    "# Write your code here\n",
    "\n",
    "def closests(word):\n",
    "    \n",
    "    dist = []\n",
    "    \n",
    "    for w in vocab:\n",
    "        \n",
    "        if w != word:\n",
    "            dist.append([similarities[vocab_stoi[word], vocab_stoi[w]], w])\n",
    "        \n",
    "    dist.sort(key = lambda x: x[0]) \n",
    "    words = []\n",
    "#     print(dist[:5])\n",
    "    for i in range(5):\n",
    "        words.append(dist[i][1])\n",
    "    \n",
    "    return words"
   ]
  },
  {
   "cell_type": "code",
   "execution_count": 149,
   "metadata": {},
   "outputs": [
    {
     "name": "stdout",
     "output_type": "stream",
     "text": [
      "['public', 'dr.', 'but', \"'s\", 'ms.']\n"
     ]
    }
   ],
   "source": [
    "print(closests('four'))\n"
   ]
  },
  {
   "cell_type": "code",
   "execution_count": 150,
   "metadata": {},
   "outputs": [
    {
     "name": "stdout",
     "output_type": "stream",
     "text": [
      "['former', 'united', '--', ';', 'such']\n"
     ]
    }
   ],
   "source": [
    "print(closests('go'))\n"
   ]
  },
  {
   "cell_type": "code",
   "execution_count": 151,
   "metadata": {},
   "outputs": [
    {
     "name": "stdout",
     "output_type": "stream",
     "text": [
      "['my', 'white', 'general', 'its', 'his']\n"
     ]
    }
   ],
   "source": [
    "print(closests('what'))"
   ]
  },
  {
   "cell_type": "code",
   "execution_count": 152,
   "metadata": {},
   "outputs": [
    {
     "name": "stdout",
     "output_type": "stream",
     "text": [
      "['united', 'they', 'between', 'national', 'a']\n"
     ]
    }
   ],
   "source": [
    "print(closests('should'))\n"
   ]
  },
  {
   "cell_type": "code",
   "execution_count": 153,
   "metadata": {},
   "outputs": [
    {
     "name": "stdout",
     "output_type": "stream",
     "text": [
      "['former', 'dr.', 'up', '.', 'even']\n"
     ]
    }
   ],
   "source": [
    "print(closests('school'))"
   ]
  },
  {
   "cell_type": "code",
   "execution_count": 154,
   "metadata": {},
   "outputs": [
    {
     "name": "stdout",
     "output_type": "stream",
     "text": [
      "['public', '.', 'end', '?', 'women']\n"
     ]
    }
   ],
   "source": [
    "print(closests('your'))"
   ]
  },
  {
   "cell_type": "code",
   "execution_count": 155,
   "metadata": {},
   "outputs": [
    {
     "name": "stdout",
     "output_type": "stream",
     "text": [
      "['their', 'the', 'between', 'could', \"'s\"]\n"
     ]
    }
   ],
   "source": [
    "print(closests('yesterday'))\n"
   ]
  },
  {
   "cell_type": "code",
   "execution_count": 156,
   "metadata": {},
   "outputs": [
    {
     "name": "stdout",
     "output_type": "stream",
     "text": [
      "['which', '.', 'because', 'when', 'new']\n"
     ]
    }
   ],
   "source": [
    "print(closests('not'))"
   ]
  },
  {
   "cell_type": "markdown",
   "metadata": {},
   "source": [
    "### Part (c) -- 2 pts\n",
    "\n",
    "We can visualize the word embeddings by reducing the dimensionality of\n",
    "the word vectors to 2D. There are many dimensionality reduction techniques\n",
    "that we could use, and we will use an algorithm called t-SNE.\n",
    "(You don’t need to know what this is for the assignment,\n",
    "but we may cover it later in the course.)\n",
    "Nearby points in this 2-D space are meant to correspond to nearby points\n",
    "in the original, high-dimensional space.\n",
    "\n",
    "The following code runs the t-SNE algorithm and plots the result.\n",
    "Look at the plot and find two clusters of related words.\n",
    "What do the words in each cluster have in common?\n",
    "\n",
    "Note that there is randomness in the initialization of the t-SNE \n",
    "algorithm. If you re-run this code, you may get a different image.\n",
    "Please make sure to submit your image in the PDF file for your TA to see."
   ]
  },
  {
   "cell_type": "code",
   "execution_count": 164,
   "metadata": {},
   "outputs": [
    {
     "data": {
      "image/png": "[encoded data removed]",
      "text/plain": [
       "<Figure size 720x720 with 1 Axes>"
      ]
     },
     "metadata": {
      "needs_background": "light"
     },
     "output_type": "display_data"
    }
   ],
   "source": [
    "import sklearn.manifold\n",
    "tsne = sklearn.manifold.TSNE()\n",
    "Y = tsne.fit_transform(word_emb)\n",
    "\n",
    "plt.figure(figsize=(10, 10))\n",
    "plt.xlim(Y[:,0].min(), Y[:, 0].max())\n",
    "plt.ylim(Y[:,1].min(), Y[:, 1].max())\n",
    "for i, w in enumerate(vocab):\n",
    "    plt.text(Y[i, 0], Y[i, 1], w)\n",
    "plt.show()"
   ]
  },
  {
   "cell_type": "code",
   "execution_count": 172,
   "metadata": {},
   "outputs": [
    {
     "data": {
      "text/plain": [
       "'\\nA cluster of words means that words in it are used in a similar fashion.\\nThe words in a cluster share the same structural position in a sentence.\\n\\n\\nCluster 1: {yesterday, work, from, left}\\n    - All these words can be used as a subject in a sentence.\\n\\nCluster 2: {such, into, down, set}\\n    - All these words can act as adverbs in a sentence\\n    \\n'"
      ]
     },
     "execution_count": 172,
     "metadata": {},
     "output_type": "execute_result"
    }
   ],
   "source": [
    "'''\n",
    "A cluster of words means that words in it are used in a similar fashion.\n",
    "The words in a cluster share the same structural position in a sentence.\n",
    "\n",
    "\n",
    "Cluster 1: {yesterday, work, from, left}\n",
    "    - All these words can be used as a subject in a sentence.\n",
    "\n",
    "Cluster 2: {such, into, down, set}\n",
    "    - All these words can act as adverbs in a sentence\n",
    "    \n",
    "'''"
   ]
  }
 ],
 "metadata": {
  "kernelspec": {
   "display_name": "Python 3",
   "language": "python",
   "name": "python3"
  },
  "language_info": {
   "codemirror_mode": {
    "name": "ipython",
    "version": 3
   },
   "file_extension": ".py",
   "mimetype": "text/x-python",
   "name": "python",
   "nbconvert_exporter": "python",
   "pygments_lexer": "ipython3",
   "version": "3.7.3"
  }
 },
 "nbformat": 4,
 "nbformat_minor": 2
}
