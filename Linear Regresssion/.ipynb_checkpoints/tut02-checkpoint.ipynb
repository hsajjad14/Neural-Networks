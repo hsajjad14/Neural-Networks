{
 "cells": [
  {
   "cell_type": "markdown",
   "metadata": {},
   "source": [
    "# CSC321 Tutorial 2: Linear Regression\n",
    "\n",
    "In this tutorial, we'll go through another example of linear regression from an implementation\n",
    "perspective. We will use the Boston Housing dataset, and predict the median cost of a home\n",
    "in an area of Boston. We will:\n",
    "\n",
    "- set up the linear regression problem using numpy\n",
    "- show that vectorized code is faster (more in Lecture 2)\n",
    "- solve the linear regression problem using the closed form solution\n",
    "- solve the linear regression problem using gradient descent (more in Lecture 2)"
   ]
  },
  {
   "cell_type": "code",
   "execution_count": 1,
   "metadata": {},
   "outputs": [],
   "source": [
    "import matplotlib\n",
    "import numpy as np\n",
    "import matplotlib.pyplot as plt\n",
    "%matplotlib inline"
   ]
  },
  {
   "cell_type": "markdown",
   "metadata": {},
   "source": [
    "## Boston Housing Data\n",
    "\n",
    "The Boston Housing data is one of the \"toy datasets\" available in sklearn.\n",
    "We can import and display the dataset description like this:"
   ]
  },
  {
   "cell_type": "code",
   "execution_count": 2,
   "metadata": {},
   "outputs": [
    {
     "name": "stdout",
     "output_type": "stream",
     "text": [
      ".. _boston_dataset:\n",
      "\n",
      "Boston house prices dataset\n",
      "---------------------------\n",
      "\n",
      "**Data Set Characteristics:**  \n",
      "\n",
      "    :Number of Instances: 506 \n",
      "\n",
      "    :Number of Attributes: 13 numeric/categorical predictive. Median Value (attribute 14) is usually the target.\n",
      "\n",
      "    :Attribute Information (in order):\n",
      "        - CRIM     per capita crime rate by town\n",
      "        - ZN       proportion of residential land zoned for lots over 25,000 sq.ft.\n",
      "        - INDUS    proportion of non-retail business acres per town\n",
      "        - CHAS     Charles River dummy variable (= 1 if tract bounds river; 0 otherwise)\n",
      "        - NOX      nitric oxides concentration (parts per 10 million)\n",
      "        - RM       average number of rooms per dwelling\n",
      "        - AGE      proportion of owner-occupied units built prior to 1940\n",
      "        - DIS      weighted distances to five Boston employment centres\n",
      "        - RAD      index of accessibility to radial highways\n",
      "        - TAX      full-value property-tax rate per $10,000\n",
      "        - PTRATIO  pupil-teacher ratio by town\n",
      "        - B        1000(Bk - 0.63)^2 where Bk is the proportion of blacks by town\n",
      "        - LSTAT    % lower status of the population\n",
      "        - MEDV     Median value of owner-occupied homes in $1000's\n",
      "\n",
      "    :Missing Attribute Values: None\n",
      "\n",
      "    :Creator: Harrison, D. and Rubinfeld, D.L.\n",
      "\n",
      "This is a copy of UCI ML housing dataset.\n",
      "https://archive.ics.uci.edu/ml/machine-learning-databases/housing/\n",
      "\n",
      "\n",
      "This dataset was taken from the StatLib library which is maintained at Carnegie Mellon University.\n",
      "\n",
      "The Boston house-price data of Harrison, D. and Rubinfeld, D.L. 'Hedonic\n",
      "prices and the demand for clean air', J. Environ. Economics & Management,\n",
      "vol.5, 81-102, 1978.   Used in Belsley, Kuh & Welsch, 'Regression diagnostics\n",
      "...', Wiley, 1980.   N.B. Various transformations are used in the table on\n",
      "pages 244-261 of the latter.\n",
      "\n",
      "The Boston house-price data has been used in many machine learning papers that address regression\n",
      "problems.   \n",
      "     \n",
      ".. topic:: References\n",
      "\n",
      "   - Belsley, Kuh & Welsch, 'Regression diagnostics: Identifying Influential Data and Sources of Collinearity', Wiley, 1980. 244-261.\n",
      "   - Quinlan,R. (1993). Combining Instance-Based and Model-Based Learning. In Proceedings on the Tenth International Conference of Machine Learning, 236-243, University of Massachusetts, Amherst. Morgan Kaufmann.\n",
      "\n"
     ]
    }
   ],
   "source": [
    "from sklearn.datasets import load_boston\n",
    "boston_data = load_boston()\n",
    "print(boston_data['DESCR'])"
   ]
  },
  {
   "cell_type": "markdown",
   "metadata": {},
   "source": [
    "To keep the example simple, we will only work with two features: `INDUS`\n",
    "and `RM`. The explanations of these features are in the description above."
   ]
  },
  {
   "cell_type": "code",
   "execution_count": 18,
   "metadata": {},
   "outputs": [
    {
     "data": {
      "text/html": [
       "<div>\n",
       "<style scoped>\n",
       "    .dataframe tbody tr th:only-of-type {\n",
       "        vertical-align: middle;\n",
       "    }\n",
       "\n",
       "    .dataframe tbody tr th {\n",
       "        vertical-align: top;\n",
       "    }\n",
       "\n",
       "    .dataframe thead th {\n",
       "        text-align: right;\n",
       "    }\n",
       "</style>\n",
       "<table border=\"1\" class=\"dataframe\">\n",
       "  <thead>\n",
       "    <tr style=\"text-align: right;\">\n",
       "      <th></th>\n",
       "      <th>CRIM</th>\n",
       "      <th>ZN</th>\n",
       "      <th>INDUS</th>\n",
       "      <th>CHAS</th>\n",
       "      <th>NOX</th>\n",
       "      <th>RM</th>\n",
       "      <th>AGE</th>\n",
       "      <th>DIS</th>\n",
       "      <th>RAD</th>\n",
       "      <th>TAX</th>\n",
       "      <th>PTRATIO</th>\n",
       "      <th>B</th>\n",
       "      <th>LSTAT</th>\n",
       "    </tr>\n",
       "  </thead>\n",
       "  <tbody>\n",
       "    <tr>\n",
       "      <th>0</th>\n",
       "      <td>0.00632</td>\n",
       "      <td>18.0</td>\n",
       "      <td>2.31</td>\n",
       "      <td>0.0</td>\n",
       "      <td>0.538</td>\n",
       "      <td>6.575</td>\n",
       "      <td>65.2</td>\n",
       "      <td>4.0900</td>\n",
       "      <td>1.0</td>\n",
       "      <td>296.0</td>\n",
       "      <td>15.3</td>\n",
       "      <td>396.90</td>\n",
       "      <td>4.98</td>\n",
       "    </tr>\n",
       "    <tr>\n",
       "      <th>1</th>\n",
       "      <td>0.02731</td>\n",
       "      <td>0.0</td>\n",
       "      <td>7.07</td>\n",
       "      <td>0.0</td>\n",
       "      <td>0.469</td>\n",
       "      <td>6.421</td>\n",
       "      <td>78.9</td>\n",
       "      <td>4.9671</td>\n",
       "      <td>2.0</td>\n",
       "      <td>242.0</td>\n",
       "      <td>17.8</td>\n",
       "      <td>396.90</td>\n",
       "      <td>9.14</td>\n",
       "    </tr>\n",
       "    <tr>\n",
       "      <th>2</th>\n",
       "      <td>0.02729</td>\n",
       "      <td>0.0</td>\n",
       "      <td>7.07</td>\n",
       "      <td>0.0</td>\n",
       "      <td>0.469</td>\n",
       "      <td>7.185</td>\n",
       "      <td>61.1</td>\n",
       "      <td>4.9671</td>\n",
       "      <td>2.0</td>\n",
       "      <td>242.0</td>\n",
       "      <td>17.8</td>\n",
       "      <td>392.83</td>\n",
       "      <td>4.03</td>\n",
       "    </tr>\n",
       "    <tr>\n",
       "      <th>3</th>\n",
       "      <td>0.03237</td>\n",
       "      <td>0.0</td>\n",
       "      <td>2.18</td>\n",
       "      <td>0.0</td>\n",
       "      <td>0.458</td>\n",
       "      <td>6.998</td>\n",
       "      <td>45.8</td>\n",
       "      <td>6.0622</td>\n",
       "      <td>3.0</td>\n",
       "      <td>222.0</td>\n",
       "      <td>18.7</td>\n",
       "      <td>394.63</td>\n",
       "      <td>2.94</td>\n",
       "    </tr>\n",
       "    <tr>\n",
       "      <th>4</th>\n",
       "      <td>0.06905</td>\n",
       "      <td>0.0</td>\n",
       "      <td>2.18</td>\n",
       "      <td>0.0</td>\n",
       "      <td>0.458</td>\n",
       "      <td>7.147</td>\n",
       "      <td>54.2</td>\n",
       "      <td>6.0622</td>\n",
       "      <td>3.0</td>\n",
       "      <td>222.0</td>\n",
       "      <td>18.7</td>\n",
       "      <td>396.90</td>\n",
       "      <td>5.33</td>\n",
       "    </tr>\n",
       "  </tbody>\n",
       "</table>\n",
       "</div>"
      ],
      "text/plain": [
       "      CRIM    ZN  INDUS  CHAS    NOX     RM   AGE     DIS  RAD    TAX  \\\n",
       "0  0.00632  18.0   2.31   0.0  0.538  6.575  65.2  4.0900  1.0  296.0   \n",
       "1  0.02731   0.0   7.07   0.0  0.469  6.421  78.9  4.9671  2.0  242.0   \n",
       "2  0.02729   0.0   7.07   0.0  0.469  7.185  61.1  4.9671  2.0  242.0   \n",
       "3  0.03237   0.0   2.18   0.0  0.458  6.998  45.8  6.0622  3.0  222.0   \n",
       "4  0.06905   0.0   2.18   0.0  0.458  7.147  54.2  6.0622  3.0  222.0   \n",
       "\n",
       "   PTRATIO       B  LSTAT  \n",
       "0     15.3  396.90   4.98  \n",
       "1     17.8  396.90   9.14  \n",
       "2     17.8  392.83   4.03  \n",
       "3     18.7  394.63   2.94  \n",
       "4     18.7  396.90   5.33  "
      ]
     },
     "execution_count": 18,
     "metadata": {},
     "output_type": "execute_result"
    }
   ],
   "source": [
    "# take the boston data\n",
    "data = boston_data['data']\n",
    "# we will only work with two of the features: INDUS and RM\n",
    "x_input = data[:, [2,5]]\n",
    "y_target = boston_data['target']\n",
    "\n",
    "# my own\n",
    "import pandas as pd\n",
    "bos = pd.DataFrame(data)\n",
    "bos.columns = boston_data.feature_names\n",
    "bos.head()\n",
    "# showing the data\n",
    "# will only focus on :\n",
    "#    INDUS = proportion of non-retail business acres per town\n",
    "#    RM = average number of rooms per dwelling\n",
    "# x_input # = all the data in INDUS and RM \n",
    "# y_target # = the target, actual for that house"
   ]
  },
  {
   "cell_type": "markdown",
   "metadata": {},
   "source": [
    "Just to give us an intuition of how these two features INDUS and RM\n",
    "affect housing prices, lets visualize the feature interactions.\n",
    "As expected, the more \"industrial\" a neighbourhood is, the lower the\n",
    "housing prices. The more rooms houses in a neighbourhood have, the\n",
    "higher the median housing price."
   ]
  },
  {
   "cell_type": "code",
   "execution_count": 19,
   "metadata": {},
   "outputs": [
    {
     "data": {
      "image/png": "[encoded data removed]",
      "text/plain": [
       "<Figure size 432x288 with 1 Axes>"
      ]
     },
     "metadata": {
      "needs_background": "light"
     },
     "output_type": "display_data"
    },
    {
     "data": {
      "image/png": "[encoded data removed]",
      "text/plain": [
       "<Figure size 432x288 with 1 Axes>"
      ]
     },
     "metadata": {
      "needs_background": "light"
     },
     "output_type": "display_data"
    }
   ],
   "source": [
    "# Individual plots for the two features:\n",
    "plt.title('Industrialness vs Med House Price')\n",
    "plt.scatter(x_input[:, 0], y_target)\n",
    "plt.xlabel('Industrialness')\n",
    "plt.ylabel('Med House Price')\n",
    "plt.show()\n",
    "\n",
    "plt.title('Avg Num Rooms vs Med House Price')\n",
    "plt.scatter(x_input[:, 1], y_target)\n",
    "plt.xlabel('Avg Num Rooms')\n",
    "plt.ylabel('Med House Price')\n",
    "plt.show()"
   ]
  },
  {
   "cell_type": "markdown",
   "metadata": {},
   "source": [
    "## Defining the Cost Function\n",
    "\n",
    "In lecture, we defined the cost function for a linear regression problem using the square loss:\n",
    "\n",
    "$$\\mathcal{E}(y, t) = \\frac{1}{2N} \\sum_{i=1}^N (y^{(i)}-t^{(i)})^2$$\n",
    "\n",
    "In our case, since we have two features $x_1$ and $x_2$, our linear regression model will look like this:\n",
    "\n",
    "$$\\mathcal{E}(y, t) = \\frac{1}{2N} \\sum_{i=1}^N (w_1 x_1^{(i)} + w_2 x_2^{(i)} + b -t^{(i)})^2$$\n",
    "\n",
    "We can use the above formula to compute the cost function across an entire dataset (X, t):"
   ]
  },
  {
   "cell_type": "code",
   "execution_count": 25,
   "metadata": {},
   "outputs": [],
   "source": [
    "def cost(w1, w2, b, X, t):\n",
    "    '''\n",
    "    Evaluate the cost function in a non-vectorized manner for \n",
    "    inputs `X` and targets `t`, at weights `w1`, `w2` and `b`.\n",
    "    '''\n",
    "    cost = 0\n",
    "    for i in range(len(t)):\n",
    "        cost += (w1*X[i][0] + w2*X[i][1] + b - t[i]) ** 2\n",
    "    \n",
    "    cost = cost/(2*len(t))\n",
    "    return cost\n",
    "        "
   ]
  },
  {
   "cell_type": "markdown",
   "metadata": {},
   "source": [
    "For example, the cost for this hypothesis..."
   ]
  },
  {
   "cell_type": "code",
   "execution_count": 26,
   "metadata": {},
   "outputs": [
    {
     "data": {
      "text/plain": [
       "2241.1239166749006"
      ]
     },
     "execution_count": 26,
     "metadata": {},
     "output_type": "execute_result"
    }
   ],
   "source": [
    "cost(3, 5, 20, x_input, y_target)"
   ]
  },
  {
   "cell_type": "markdown",
   "metadata": {},
   "source": [
    "...is higher than this one:"
   ]
  },
  {
   "cell_type": "code",
   "execution_count": 27,
   "metadata": {},
   "outputs": [
    {
     "data": {
      "text/plain": [
       "1195.1098850543478"
      ]
     },
     "execution_count": 27,
     "metadata": {},
     "output_type": "execute_result"
    }
   ],
   "source": [
    "cost(3, 5, 0, x_input, y_target)"
   ]
  },
  {
   "cell_type": "markdown",
   "metadata": {},
   "source": [
    "## Vectorizing the cost function:\n",
    "\n",
    "Vectorization is a way to use linear algbera to represent computations like the one above.\n",
    "In Python, vectorized code written in numpy tend to be faster than code that uses a `for` loop.\n",
    "We'll talk about vectorization in more detail in lecture 2. \n",
    "\n",
    "If we write the linear regression cost function using matrix computations, it would look like this:\n",
    "\n",
    "$$\\mathcal{E}(y, t) = \\frac{1}{2N} \\| \\bf{X} \\bf{w} + b \\bf{1} - \\bf{t} \\| ^2$$ \n",
    "\n",
    "Following the above formula, our vectorized code looks like this:"
   ]
  },
  {
   "cell_type": "code",
   "execution_count": 35,
   "metadata": {},
   "outputs": [],
   "source": [
    "def cost_vectorized(w1, w2, b, X, t):\n",
    "    '''\n",
    "    Evaluate the cost function in a vectorized manner for \n",
    "    inputs `X` and targets `t`, at weights `w1`, `w2` and `b`.\n",
    "    '''\n",
    "    # TODO: write this!\n",
    "    N = len(y_target)\n",
    "    w = np.array([w1, w2])\n",
    "    bI = b * np.ones(N) # converting to a vector of b's : [b, b, b ,...]\n",
    "    # X : dimensions = N x 2\n",
    "    # w : dimensions = 2 x 1 because np.array makes it a vector\n",
    "    y = np.dot(X,w) + bI\n",
    "    \n",
    "    # we cant just do (y-t)**2 / (2*N) because this gives a vector of the differences b/w y and t, we want full sum\n",
    "    return np.sum((y-t)**2 / (2*N))\n"
   ]
  },
  {
   "cell_type": "markdown",
   "metadata": {},
   "source": [
    "We can check that the vectorized code provides the same answers as the non-vectorized code:"
   ]
  },
  {
   "cell_type": "code",
   "execution_count": 36,
   "metadata": {},
   "outputs": [
    {
     "data": {
      "text/plain": [
       "2241.123916674901"
      ]
     },
     "execution_count": 36,
     "metadata": {},
     "output_type": "execute_result"
    }
   ],
   "source": [
    "# TODO: write this!\n",
    "cost_vectorized(3, 5, 20, x_input, y_target)"
   ]
  },
  {
   "cell_type": "code",
   "execution_count": 37,
   "metadata": {},
   "outputs": [
    {
     "data": {
      "text/plain": [
       "1195.109885054348"
      ]
     },
     "execution_count": 37,
     "metadata": {},
     "output_type": "execute_result"
    }
   ],
   "source": [
    "# TODO: write this!\n",
    "cost_vectorized(3, 5, 0, x_input, y_target)"
   ]
  },
  {
   "cell_type": "markdown",
   "metadata": {},
   "source": [
    "## Comparing speed of the vectorized vs unvectorized code\n",
    "\n",
    "We'll see below that the vectorized code already\n",
    "runs ~2x faster than the non-vectorized code! \n",
    "\n",
    "Hopefully this will convince you to always vectorized your code whenever possible"
   ]
  },
  {
   "cell_type": "code",
   "execution_count": 38,
   "metadata": {},
   "outputs": [],
   "source": [
    "import time"
   ]
  },
  {
   "cell_type": "markdown",
   "metadata": {},
   "source": [
    "Time for non-vectorized code:"
   ]
  },
  {
   "cell_type": "code",
   "execution_count": 39,
   "metadata": {},
   "outputs": [
    {
     "name": "stdout",
     "output_type": "stream",
     "text": [
      "3182.406341674902\n",
      "0.0074918270111083984\n"
     ]
    }
   ],
   "source": [
    "t0 = time.time()\n",
    "print(cost(4, 5, 20, x_input, y_target))\n",
    "t1 = time.time()\n",
    "print(t1 - t0)"
   ]
  },
  {
   "cell_type": "markdown",
   "metadata": {},
   "source": [
    "Time for vectorized code:"
   ]
  },
  {
   "cell_type": "code",
   "execution_count": 40,
   "metadata": {},
   "outputs": [
    {
     "name": "stdout",
     "output_type": "stream",
     "text": [
      "3182.4063416749013\n",
      "0.000995635986328125\n"
     ]
    }
   ],
   "source": [
    "t0 = time.time()\n",
    "print(cost_vectorized(4, 5, 20, x_input, y_target))\n",
    "t1 = time.time()\n",
    "print(t1 - t0)"
   ]
  },
  {
   "cell_type": "markdown",
   "metadata": {},
   "source": [
    "## Plotting cost in weight space\n",
    "\n",
    "We'll plot the cost for two of our weights, assuming that bias = -22.89831573.\n",
    "\n",
    "We'll see where that number comes from later.\n",
    "\n",
    "Notice the shape of the contours are ovals."
   ]
  },
  {
   "cell_type": "code",
   "execution_count": 42,
   "metadata": {},
   "outputs": [
    {
     "data": {
      "image/png": "[encoded data removed]",
      "text/plain": [
       "<Figure size 432x288 with 1 Axes>"
      ]
     },
     "metadata": {
      "needs_background": "light"
     },
     "output_type": "display_data"
    }
   ],
   "source": [
    "w1s = np.arange(-1.0, 0.0, 0.01)\n",
    "w2s = np.arange(6.0, 10.0, 0.1)\n",
    "z_cost = []\n",
    "for w2 in w2s:\n",
    "    z_cost.append([cost_vectorized(w1, w2, -22.89831573, x_input, y_target) for w1 in w1s])\n",
    "z_cost = np.array(z_cost)\n",
    "np.shape(z_cost)\n",
    "W1, W2 = np.meshgrid(w1s, w2s)\n",
    "CS = plt.contour(W1, W2, z_cost, 25)\n",
    "plt.clabel(CS, inline=1, fontsize=10)\n",
    "plt.title('Costs for various values of w1 and w2 for b=0')\n",
    "plt.xlabel(\"w1\")\n",
    "plt.ylabel(\"w2\")\n",
    "plt.plot([-0.33471389], [7.82205511], 'o') # this will be the minima that we'll find later\n",
    "plt.show()"
   ]
  },
  {
   "cell_type": "markdown",
   "metadata": {},
   "source": [
    "## Exact Solution\n",
    "\n",
    "Work this out on the board:\n",
    "\n",
    "1. ignore biases (add an extra feature & weight instead)\n",
    "2. get equations from partial derivative\n",
    "3. vectorize\n",
    "4. write code."
   ]
  },
  {
   "cell_type": "code",
   "execution_count": 43,
   "metadata": {},
   "outputs": [
    {
     "data": {
      "text/plain": [
       "array([[ 2.31 ,  6.575,  1.   ],\n",
       "       [ 7.07 ,  6.421,  1.   ],\n",
       "       [ 7.07 ,  7.185,  1.   ],\n",
       "       ...,\n",
       "       [11.93 ,  6.976,  1.   ],\n",
       "       [11.93 ,  6.794,  1.   ],\n",
       "       [11.93 ,  6.03 ,  1.   ]])"
      ]
     },
     "execution_count": 43,
     "metadata": {},
     "output_type": "execute_result"
    }
   ],
   "source": [
    "# add an extra feature (column in the input) that are just all ones\n",
    "x_in = np.concatenate([x_input, np.ones([np.shape(x_input)[0], 1])], axis=1)\n",
    "x_in"
   ]
  },
  {
   "cell_type": "code",
   "execution_count": 51,
   "metadata": {},
   "outputs": [],
   "source": [
    "def solve_exactly(X, t):\n",
    "    '''\n",
    "    Solve linear regression exactly. (fully vectorized)\n",
    "    \n",
    "    Given `X` - NxD matrix of inputs\n",
    "          `t` - target outputs\n",
    "    Returns the optimal weights as a D-dimensional vector\n",
    "    '''\n",
    "    # TODO: write this!\n",
    "    # derivation https://towardsdatascience.com/analytical-solution-of-linear-regression-a0e870b038d5\n",
    "    N, D = np.shape(X)\n",
    "    # matrix multiply X transpose by X, A = X^T*X, A is a DxD matrix\n",
    "    A = np.matmul(X.T, X) \n",
    "    # dot X transpose with t\n",
    "    c = np.dot(X.T, t)\n",
    "    \n",
    "    return np.matmul(np.linalg.inv(A), c)\n",
    "\n"
   ]
  },
  {
   "cell_type": "code",
   "execution_count": 52,
   "metadata": {},
   "outputs": [
    {
     "data": {
      "text/plain": [
       "array([ -0.33471389,   7.82205511, -22.89831573])"
      ]
     },
     "execution_count": 52,
     "metadata": {},
     "output_type": "execute_result"
    }
   ],
   "source": [
    "solve_exactly(x_in, y_target)"
   ]
  },
  {
   "cell_type": "markdown",
   "metadata": {},
   "source": [
    "In practice, we use library code that is written for us."
   ]
  },
  {
   "cell_type": "code",
   "execution_count": 53,
   "metadata": {},
   "outputs": [
    {
     "name": "stderr",
     "output_type": "stream",
     "text": [
      "C:\\ProgramData\\Anaconda3\\lib\\site-packages\\ipykernel_launcher.py:2: FutureWarning: `rcond` parameter will change to the default of machine precision times ``max(M, N)`` where M and N are the input matrix dimensions.\n",
      "To use the future default and silence this warning we advise to pass `rcond=None`, to keep using the old, explicitly pass `rcond=-1`.\n",
      "  \n"
     ]
    },
    {
     "data": {
      "text/plain": [
       "(array([ -0.33471389,   7.82205511, -22.89831573]),\n",
       " array([19807.614505]),\n",
       " 3,\n",
       " array([318.75354429,  75.21961717,   2.10127199]))"
      ]
     },
     "execution_count": 53,
     "metadata": {},
     "output_type": "execute_result"
    }
   ],
   "source": [
    "# In real life we don't want to code it directly\n",
    "np.linalg.lstsq(x_in, y_target)"
   ]
  },
  {
   "cell_type": "markdown",
   "metadata": {},
   "source": [
    "## Gradient Function and Gradient Descent\n",
    "\n",
    "Another approach to optimize the cost function is via gradient descent, which we will\n",
    "discuss in lecture 2.\n",
    "\n",
    "The main idea is that we compute the gradient of the cost function with respect to\n",
    "each parameter $w_j$, which will tell us how to update $w_j$ (by a small amount) to\n",
    "improve the cost function (by a small amount).\n",
    "\n",
    "In order to implement gradient descent, we need to be able to compute the *gradient*\n",
    "of the cost function with respect to a weight $w_j$:\n",
    "\n",
    "$$\\frac{\\partial \\mathcal{E}}{\\partial w_j} = \\frac{1}{N}\\sum_i x_j^{(i)}(y^{(i)}-t^{(i)})$$"
   ]
  },
  {
   "cell_type": "code",
   "execution_count": 54,
   "metadata": {},
   "outputs": [],
   "source": [
    "# Vectorized gradient function\n",
    "def gradfn(weights, X, t):\n",
    "    '''\n",
    "    Given `weights` - a current \"Guess\" of what our weights should be\n",
    "          `X` - matrix of shape (N,D) of input features\n",
    "          `t` - target y values\n",
    "    Return gradient of each weight evaluated at the current value\n",
    "    '''\n",
    "    # TODO: write this!\n",
    "    N, D = np.shape(X)\n",
    "    # because y = w*x_i\n",
    "    y_pred = np.matmul(X, weights)\n",
    "    error = y_pred - t\n",
    "    # x_j * (y_i - t_i)\n",
    "    return np.matmul(np.transpose(x_in), error) / float(N)\n",
    "    "
   ]
  },
  {
   "cell_type": "markdown",
   "metadata": {},
   "source": [
    "With this function, we can solve the optimization problem by repeatedly\n",
    "applying gradient descent on $w$:"
   ]
  },
  {
   "cell_type": "code",
   "execution_count": 55,
   "metadata": {},
   "outputs": [],
   "source": [
    "def solve_via_gradient_descent(X, t, print_every=5000,\n",
    "                               niter=100000, alpha=0.005):\n",
    "    '''\n",
    "    Given `X` - matrix of shape (N,D) of input features\n",
    "          `t` - target y values\n",
    "    Solves for linear regression weights.\n",
    "    Return weights after `niter` iterations.\n",
    "    '''\n",
    "    # TODO: write this!\n",
    "    N, D = np.shape(X)\n",
    "    # initialize all the weights to zeros\n",
    "    w = np.zeros([D])\n",
    "    # loop through num iterations\n",
    "    for k in range(niter):\n",
    "        # gradient descent\n",
    "        dw = gradfn(w, X, t)\n",
    "        # adjust weights according to gradient descent error\n",
    "        w = w - alpha*dw\n",
    "        if k % print_every == 0:\n",
    "            print('Weight after %d iteration: %s' % (k, str(w)))\n",
    "    return w"
   ]
  },
  {
   "cell_type": "code",
   "execution_count": 56,
   "metadata": {},
   "outputs": [
    {
     "name": "stdout",
     "output_type": "stream",
     "text": [
      "Weight after 0 iteration: [1.10241186 0.73047508 0.11266403]\n",
      "Weight after 5000 iteration: [-0.48304613  5.10076868 -3.97899253]\n",
      "Weight after 10000 iteration: [-0.45397323  5.63413678 -7.6871518 ]\n",
      "Weight after 15000 iteration: [ -0.43059857   6.06296553 -10.66851736]\n",
      "Weight after 20000 iteration: [ -0.41180532   6.40774447 -13.06553969]\n",
      "Weight after 25000 iteration: [ -0.39669551   6.68494726 -14.9927492 ]\n",
      "Weight after 30000 iteration: [ -0.38454721   6.90781871 -16.54222851]\n",
      "Weight after 35000 iteration: [ -0.37477995   7.08700769 -17.78801217]\n",
      "Weight after 40000 iteration: [ -0.36692706   7.23107589 -18.78962409]\n",
      "Weight after 45000 iteration: [ -0.36061333   7.34690694 -19.59492155]\n",
      "Weight after 50000 iteration: [ -0.35553708   7.44003528 -20.24238191]\n",
      "Weight after 55000 iteration: [ -0.35145576   7.5149106  -20.762941  ]\n",
      "Weight after 60000 iteration: [ -0.34817438   7.57511047 -21.18147127]\n",
      "Weight after 65000 iteration: [ -0.34553614   7.62351125 -21.51797024]\n",
      "Weight after 70000 iteration: [ -0.343415     7.66242555 -21.78851591]\n",
      "Weight after 75000 iteration: [ -0.34170959   7.69371271 -22.00603503]\n",
      "Weight after 80000 iteration: [ -0.34033844   7.71886763 -22.18092072]\n",
      "Weight after 85000 iteration: [ -0.33923604   7.73909222 -22.32152908]\n",
      "Weight after 90000 iteration: [ -0.3383497    7.75535283 -22.4345784 ]\n",
      "Weight after 95000 iteration: [ -0.33763709   7.76842638 -22.52547023]\n"
     ]
    },
    {
     "data": {
      "text/plain": [
       "array([ -0.33706425,   7.77893565, -22.59853432])"
      ]
     },
     "execution_count": 56,
     "metadata": {},
     "output_type": "execute_result"
    }
   ],
   "source": [
    "# TODO: write this!\n",
    "solve_via_gradient_descent( X=x_in, t=y_target)"
   ]
  },
  {
   "cell_type": "markdown",
   "metadata": {},
   "source": [
    "For comparison, this was the exact result:"
   ]
  },
  {
   "cell_type": "code",
   "execution_count": 57,
   "metadata": {},
   "outputs": [
    {
     "name": "stderr",
     "output_type": "stream",
     "text": [
      "C:\\ProgramData\\Anaconda3\\lib\\site-packages\\ipykernel_launcher.py:1: FutureWarning: `rcond` parameter will change to the default of machine precision times ``max(M, N)`` where M and N are the input matrix dimensions.\n",
      "To use the future default and silence this warning we advise to pass `rcond=None`, to keep using the old, explicitly pass `rcond=-1`.\n",
      "  \"\"\"Entry point for launching an IPython kernel.\n"
     ]
    },
    {
     "data": {
      "text/plain": [
       "(array([ -0.33471389,   7.82205511, -22.89831573]),\n",
       " array([19807.614505]),\n",
       " 3,\n",
       " array([318.75354429,  75.21961717,   2.10127199]))"
      ]
     },
     "execution_count": 57,
     "metadata": {},
     "output_type": "execute_result"
    }
   ],
   "source": [
    "np.linalg.lstsq(x_in, y_target)"
   ]
  },
  {
   "cell_type": "code",
   "execution_count": null,
   "metadata": {},
   "outputs": [],
   "source": []
  }
 ],
 "metadata": {
  "kernelspec": {
   "display_name": "Python 3",
   "language": "python",
   "name": "python3"
  },
  "language_info": {
   "codemirror_mode": {
    "name": "ipython",
    "version": 3
   },
   "file_extension": ".py",
   "mimetype": "text/x-python",
   "name": "python",
   "nbconvert_exporter": "python",
   "pygments_lexer": "ipython3",
   "version": "3.7.3"
  }
 },
 "nbformat": 4,
 "nbformat_minor": 2
}
